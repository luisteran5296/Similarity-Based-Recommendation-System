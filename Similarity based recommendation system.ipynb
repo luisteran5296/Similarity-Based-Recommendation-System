{
 "cells": [
  {
   "cell_type": "markdown",
   "metadata": {
    "ExecuteTime": {
     "end_time": "2020-10-08T23:40:11.133581Z",
     "start_time": "2020-10-08T23:40:11.126604Z"
    }
   },
   "source": [
    "<h1 align=\"center\">Similarity Based Recommendation System</h1> \n",
    "_______________________________________________________________________________________________________________________________"
   ]
  },
  {
   "cell_type": "markdown",
   "metadata": {},
   "source": [
    "<h5 align=\"center\">Luis Terán</h5> "
   ]
  },
  {
   "cell_type": "markdown",
   "metadata": {},
   "source": [
    "A recommendation engine is an information filtering system uploading information tailored to users' interests, preferences, or behavioral history on an item. It is able to predict a specific user's preference on an item based on their profile.\n",
    "With the use of product recommendation systems, the customers are able to find the items they are looking for easily and quickly. A few recommendation systems have been developed so far to find products the user has watched, bought or somehow interacted with in the past.\n",
    "\n",
    "The recommendation engine is a splendid marketing tool especially for e-commerce and is also useful for increasing profits, sales and revenues in general. That's why personalized product recommendations are so widely used in the retail industry, eleven more highlighting the importance of recommendation engines in the e-commerce industry.\n",
    "\n",
    "<img src=\"images/recom2.jpeg\" alt=\"Figure 1\" style=\"width: 600px;\"/><p style=\"text-align:center;font-size: 11px;\">Recommendation system</p>\n",
    "\n",
    "Recommendation systems use a number of different technologies. We can classify these systems into two broad groups:\n",
    "- Content-based systems: Content-based systems examine properties of the items recommended. For instance, if a Netflix user has watched many cowboy movies, then recommend a movie classified in the database as having the “cowboy” genre.\n",
    "- Collaborative filtering systems: Collaborative filtering systems recommend items based on similarity measures between users and/or items. The items recommended to a user are those preferred by similar users. \n",
    "\n",
    "The aim of this project is to create a similarity based recommendation system using collaborative filtering completely capable of make concrete recommendations of movies according to previous rated books movies the user. The original dataset was obtained from:\n",
    "\n",
    "</br><center> https://grouplens.org/datasets/movielens/latest/ </center>\n",
    "\n",
    "This dataset (ml-latest-small) describes 5-star rating and free-text tagging activity from [MovieLens](http://movielens.org), a movie recommendation service. It contains 100836 ratings and 3683 tag applications across 9742 movies. These data were created by 610 users between March 29, 1996 and September 24, 2018. This dataset was generated on September 26, 2018. No demographic information is included. Each user is represented by an id, and no other information is provided.\n",
    "\n",
    "The data files used in this project were:\n",
    "\n",
    "- Movies Data File Structure (movies.csv): Movie information is contained in the file `movies.csv`. Each line of this file after the header row represents one movie, and has the (movieId, title, genre) format.\n",
    "- Ratings Data File Structure (ratings.csv): All ratings are contained in the file `ratings.csv`. Each line of this file after the header row represents one rating of one movie by one user, and has the (userId, movieId, rating, timestamp) format.\n",
    "\n",
    "The process followed by the project was:\n",
    "1. Exploratory Data Analysis: \n",
    "2. User Item Matrix\n",
    "3. Similar User Search\n",
    "4. Recommendation System Implementation\n",
    "5. Final Evaluation"
   ]
  },
  {
   "cell_type": "markdown",
   "metadata": {},
   "source": [
    "## 1. Exploratory Data Analysis\n",
    "\n",
    "### 1.1 General Analysis\n",
    "\n",
    "First of all, we need to import both datasets (movies & ratings) and take a view of the data. There are 9,742 movies with id, title and genres, also 100,836 ratings of those movies. Before proceeding, we need to take care of some aspects of the dataset:\n",
    "\n",
    "- Missing values: There were found 0 missing in any of the datasets.\n",
    "- Duplicates: There were no duplicate observations in any dataset.\n",
    "- Unnecessary variables: Since the recommender system is based only in previous evaluations, is only necessary to know the evaluation, which movie was evaluated and who made the evaluation ('rating', 'movieId', 'userId')."
   ]
  },
  {
   "cell_type": "code",
   "execution_count": 25,
   "metadata": {
    "ExecuteTime": {
     "end_time": "2020-10-14T20:14:00.544613Z",
     "start_time": "2020-10-14T20:14:00.537616Z"
    }
   },
   "outputs": [],
   "source": [
    "# All the libraries needed for the project are loaded\n",
    "import pandas as pd\n",
    "import seaborn as sns \n",
    "import matplotlib.pyplot as plt\n",
    "import numpy as np\n",
    "import warnings\n",
    "\n",
    "np.random.seed(0)\n",
    "warnings.filterwarnings('ignore')"
   ]
  },
  {
   "cell_type": "code",
   "execution_count": 26,
   "metadata": {
    "ExecuteTime": {
     "end_time": "2020-10-14T20:14:00.743519Z",
     "start_time": "2020-10-14T20:14:00.549609Z"
    }
   },
   "outputs": [
    {
     "data": {
      "text/html": [
       "<div>\n",
       "<style scoped>\n",
       "    .dataframe tbody tr th:only-of-type {\n",
       "        vertical-align: middle;\n",
       "    }\n",
       "\n",
       "    .dataframe tbody tr th {\n",
       "        vertical-align: top;\n",
       "    }\n",
       "\n",
       "    .dataframe thead th {\n",
       "        text-align: right;\n",
       "    }\n",
       "</style>\n",
       "<table border=\"1\" class=\"dataframe\">\n",
       "  <thead>\n",
       "    <tr style=\"text-align: right;\">\n",
       "      <th></th>\n",
       "      <th>movieId</th>\n",
       "      <th>title</th>\n",
       "      <th>genres</th>\n",
       "    </tr>\n",
       "  </thead>\n",
       "  <tbody>\n",
       "    <tr>\n",
       "      <td>0</td>\n",
       "      <td>1</td>\n",
       "      <td>Toy Story (1995)</td>\n",
       "      <td>Adventure|Animation|Children|Comedy|Fantasy</td>\n",
       "    </tr>\n",
       "    <tr>\n",
       "      <td>1</td>\n",
       "      <td>2</td>\n",
       "      <td>Jumanji (1995)</td>\n",
       "      <td>Adventure|Children|Fantasy</td>\n",
       "    </tr>\n",
       "    <tr>\n",
       "      <td>2</td>\n",
       "      <td>3</td>\n",
       "      <td>Grumpier Old Men (1995)</td>\n",
       "      <td>Comedy|Romance</td>\n",
       "    </tr>\n",
       "    <tr>\n",
       "      <td>3</td>\n",
       "      <td>4</td>\n",
       "      <td>Waiting to Exhale (1995)</td>\n",
       "      <td>Comedy|Drama|Romance</td>\n",
       "    </tr>\n",
       "    <tr>\n",
       "      <td>4</td>\n",
       "      <td>5</td>\n",
       "      <td>Father of the Bride Part II (1995)</td>\n",
       "      <td>Comedy</td>\n",
       "    </tr>\n",
       "  </tbody>\n",
       "</table>\n",
       "</div>"
      ],
      "text/plain": [
       "   movieId                               title  \\\n",
       "0        1                    Toy Story (1995)   \n",
       "1        2                      Jumanji (1995)   \n",
       "2        3             Grumpier Old Men (1995)   \n",
       "3        4            Waiting to Exhale (1995)   \n",
       "4        5  Father of the Bride Part II (1995)   \n",
       "\n",
       "                                        genres  \n",
       "0  Adventure|Animation|Children|Comedy|Fantasy  \n",
       "1                   Adventure|Children|Fantasy  \n",
       "2                               Comedy|Romance  \n",
       "3                         Comedy|Drama|Romance  \n",
       "4                                       Comedy  "
      ]
     },
     "execution_count": 26,
     "metadata": {},
     "output_type": "execute_result"
    }
   ],
   "source": [
    "# Importing movie dataset\n",
    "movies = pd.read_csv(\"./data/movies.csv\")\n",
    "movies.head()"
   ]
  },
  {
   "cell_type": "code",
   "execution_count": 27,
   "metadata": {
    "ExecuteTime": {
     "end_time": "2020-10-14T20:14:00.842441Z",
     "start_time": "2020-10-14T20:14:00.748496Z"
    }
   },
   "outputs": [
    {
     "data": {
      "text/plain": [
       "(9742, 3)"
      ]
     },
     "execution_count": 27,
     "metadata": {},
     "output_type": "execute_result"
    }
   ],
   "source": [
    "# Showing number of rows (9742) and columns (3) of the movies dataset\n",
    "movies.shape"
   ]
  },
  {
   "cell_type": "code",
   "execution_count": 28,
   "metadata": {
    "ExecuteTime": {
     "end_time": "2020-10-14T20:14:01.015346Z",
     "start_time": "2020-10-14T20:14:00.847438Z"
    }
   },
   "outputs": [
    {
     "name": "stdout",
     "output_type": "stream",
     "text": [
      "<class 'pandas.core.frame.DataFrame'>\n",
      "RangeIndex: 9742 entries, 0 to 9741\n",
      "Data columns (total 3 columns):\n",
      "movieId    9742 non-null int64\n",
      "title      9742 non-null object\n",
      "genres     9742 non-null object\n",
      "dtypes: int64(1), object(2)\n",
      "memory usage: 152.3+ KB\n"
     ]
    }
   ],
   "source": [
    "# Looking for null values\n",
    "movies.info()"
   ]
  },
  {
   "cell_type": "code",
   "execution_count": 29,
   "metadata": {
    "ExecuteTime": {
     "end_time": "2020-10-14T20:14:01.322169Z",
     "start_time": "2020-10-14T20:14:01.019343Z"
    }
   },
   "outputs": [
    {
     "data": {
      "text/html": [
       "<div>\n",
       "<style scoped>\n",
       "    .dataframe tbody tr th:only-of-type {\n",
       "        vertical-align: middle;\n",
       "    }\n",
       "\n",
       "    .dataframe tbody tr th {\n",
       "        vertical-align: top;\n",
       "    }\n",
       "\n",
       "    .dataframe thead th {\n",
       "        text-align: right;\n",
       "    }\n",
       "</style>\n",
       "<table border=\"1\" class=\"dataframe\">\n",
       "  <thead>\n",
       "    <tr style=\"text-align: right;\">\n",
       "      <th></th>\n",
       "      <th>userId</th>\n",
       "      <th>movieId</th>\n",
       "      <th>rating</th>\n",
       "      <th>timestamp</th>\n",
       "    </tr>\n",
       "  </thead>\n",
       "  <tbody>\n",
       "    <tr>\n",
       "      <td>0</td>\n",
       "      <td>1</td>\n",
       "      <td>1</td>\n",
       "      <td>4.0</td>\n",
       "      <td>964982703</td>\n",
       "    </tr>\n",
       "    <tr>\n",
       "      <td>1</td>\n",
       "      <td>1</td>\n",
       "      <td>3</td>\n",
       "      <td>4.0</td>\n",
       "      <td>964981247</td>\n",
       "    </tr>\n",
       "    <tr>\n",
       "      <td>2</td>\n",
       "      <td>1</td>\n",
       "      <td>6</td>\n",
       "      <td>4.0</td>\n",
       "      <td>964982224</td>\n",
       "    </tr>\n",
       "    <tr>\n",
       "      <td>3</td>\n",
       "      <td>1</td>\n",
       "      <td>47</td>\n",
       "      <td>5.0</td>\n",
       "      <td>964983815</td>\n",
       "    </tr>\n",
       "    <tr>\n",
       "      <td>4</td>\n",
       "      <td>1</td>\n",
       "      <td>50</td>\n",
       "      <td>5.0</td>\n",
       "      <td>964982931</td>\n",
       "    </tr>\n",
       "  </tbody>\n",
       "</table>\n",
       "</div>"
      ],
      "text/plain": [
       "   userId  movieId  rating  timestamp\n",
       "0       1        1     4.0  964982703\n",
       "1       1        3     4.0  964981247\n",
       "2       1        6     4.0  964982224\n",
       "3       1       47     5.0  964983815\n",
       "4       1       50     5.0  964982931"
      ]
     },
     "execution_count": 29,
     "metadata": {},
     "output_type": "execute_result"
    }
   ],
   "source": [
    "# Importing rating dataset\n",
    "ratings = pd.read_csv(\"./data/ratings.csv\")\n",
    "ratings.head()"
   ]
  },
  {
   "cell_type": "code",
   "execution_count": 30,
   "metadata": {
    "ExecuteTime": {
     "end_time": "2020-10-14T20:14:01.338159Z",
     "start_time": "2020-10-14T20:14:01.327164Z"
    }
   },
   "outputs": [
    {
     "data": {
      "text/plain": [
       "(100836, 4)"
      ]
     },
     "execution_count": 30,
     "metadata": {},
     "output_type": "execute_result"
    }
   ],
   "source": [
    "# Showing number of rows (100836) and columns (4) of the movies dataset\n",
    "ratings.shape"
   ]
  },
  {
   "cell_type": "code",
   "execution_count": 31,
   "metadata": {
    "ExecuteTime": {
     "end_time": "2020-10-14T20:14:01.546683Z",
     "start_time": "2020-10-14T20:14:01.348152Z"
    }
   },
   "outputs": [
    {
     "name": "stdout",
     "output_type": "stream",
     "text": [
      "<class 'pandas.core.frame.DataFrame'>\n",
      "RangeIndex: 100836 entries, 0 to 100835\n",
      "Data columns (total 4 columns):\n",
      "userId       100836 non-null int64\n",
      "movieId      100836 non-null int64\n",
      "rating       100836 non-null float64\n",
      "timestamp    100836 non-null int64\n",
      "dtypes: float64(1), int64(3)\n",
      "memory usage: 3.1 MB\n"
     ]
    }
   ],
   "source": [
    "# Looking for null values\n",
    "ratings.info()"
   ]
  },
  {
   "cell_type": "code",
   "execution_count": 32,
   "metadata": {
    "ExecuteTime": {
     "end_time": "2020-10-14T20:14:01.733575Z",
     "start_time": "2020-10-14T20:14:01.551677Z"
    }
   },
   "outputs": [
    {
     "data": {
      "text/plain": [
       "0"
      ]
     },
     "execution_count": 32,
     "metadata": {},
     "output_type": "execute_result"
    }
   ],
   "source": [
    "# Looking for duplicated values\n",
    "ratings.duplicated().sum()"
   ]
  },
  {
   "cell_type": "markdown",
   "metadata": {},
   "source": [
    "### 1.2 Distribution of the ratings dataset\n",
    "\n",
    "We'll start by understanding what are the most frequent rating evaluations in the ratings dataset and how are they distributed. The evaluation consists of 10 possible values between 0.5 and 5 (0.5 step increasing). We can see that 75% of the reviews are equal or greater than 3 and 50% is greater or equal to 4 stars. The low ratings are not frequent in the dataset and a 4 star rating is the most frequent evaluation."
   ]
  },
  {
   "cell_type": "code",
   "execution_count": 33,
   "metadata": {
    "ExecuteTime": {
     "end_time": "2020-10-14T20:14:02.133362Z",
     "start_time": "2020-10-14T20:14:01.739569Z"
    }
   },
   "outputs": [
    {
     "data": {
      "image/png": "[encoded data removed]",
      "text/plain": [
       "<Figure size 1080x360 with 1 Axes>"
      ]
     },
     "metadata": {
      "needs_background": "light"
     },
     "output_type": "display_data"
    }
   ],
   "source": [
    "(pd.DataFrame(ratings['rating']\n",
    "              .value_counts(sort=False))\n",
    "              .sort_index()\n",
    "              .plot(kind='bar', color='#4472C4', figsize=(15,5), alpha=0.6))\n",
    "plt.title('Rating Distribution\\n')\n",
    "plt.xlabel('Rating')\n",
    "plt.ylabel('Count')\n",
    "plt.show()"
   ]
  },
  {
   "cell_type": "code",
   "execution_count": 34,
   "metadata": {
    "ExecuteTime": {
     "end_time": "2020-10-14T20:14:02.166328Z",
     "start_time": "2020-10-14T20:14:02.137342Z"
    },
    "scrolled": true
   },
   "outputs": [
    {
     "data": {
      "text/html": [
       "<div>\n",
       "<style scoped>\n",
       "    .dataframe tbody tr th:only-of-type {\n",
       "        vertical-align: middle;\n",
       "    }\n",
       "\n",
       "    .dataframe tbody tr th {\n",
       "        vertical-align: top;\n",
       "    }\n",
       "\n",
       "    .dataframe thead th {\n",
       "        text-align: right;\n",
       "    }\n",
       "</style>\n",
       "<table border=\"1\" class=\"dataframe\">\n",
       "  <thead>\n",
       "    <tr style=\"text-align: right;\">\n",
       "      <th></th>\n",
       "      <th>rating</th>\n",
       "    </tr>\n",
       "  </thead>\n",
       "  <tbody>\n",
       "    <tr>\n",
       "      <td>count</td>\n",
       "      <td>100836.000000</td>\n",
       "    </tr>\n",
       "    <tr>\n",
       "      <td>mean</td>\n",
       "      <td>3.501557</td>\n",
       "    </tr>\n",
       "    <tr>\n",
       "      <td>std</td>\n",
       "      <td>1.042529</td>\n",
       "    </tr>\n",
       "    <tr>\n",
       "      <td>min</td>\n",
       "      <td>0.500000</td>\n",
       "    </tr>\n",
       "    <tr>\n",
       "      <td>25%</td>\n",
       "      <td>3.000000</td>\n",
       "    </tr>\n",
       "    <tr>\n",
       "      <td>50%</td>\n",
       "      <td>3.500000</td>\n",
       "    </tr>\n",
       "    <tr>\n",
       "      <td>75%</td>\n",
       "      <td>4.000000</td>\n",
       "    </tr>\n",
       "    <tr>\n",
       "      <td>max</td>\n",
       "      <td>5.000000</td>\n",
       "    </tr>\n",
       "  </tbody>\n",
       "</table>\n",
       "</div>"
      ],
      "text/plain": [
       "              rating\n",
       "count  100836.000000\n",
       "mean        3.501557\n",
       "std         1.042529\n",
       "min         0.500000\n",
       "25%         3.000000\n",
       "50%         3.500000\n",
       "75%         4.000000\n",
       "max         5.000000"
      ]
     },
     "execution_count": 34,
     "metadata": {},
     "output_type": "execute_result"
    }
   ],
   "source": [
    "ratings['rating'].describe().to_frame()"
   ]
  },
  {
   "cell_type": "markdown",
   "metadata": {},
   "source": [
    "Now, let's count how those reviews are distributed among the users. We find out that the numbers of ratings by user ranges between 2 and 791, but almost the 75% of the users has only reviewed less than 100 movies."
   ]
  },
  {
   "cell_type": "code",
   "execution_count": 35,
   "metadata": {
    "ExecuteTime": {
     "end_time": "2020-10-14T20:14:02.646203Z",
     "start_time": "2020-10-14T20:14:02.171323Z"
    }
   },
   "outputs": [
    {
     "data": {
      "image/png": "[encoded data removed]",
      "text/plain": [
       "<Figure size 1080x360 with 1 Axes>"
      ]
     },
     "metadata": {
      "needs_background": "light"
     },
     "output_type": "display_data"
    }
   ],
   "source": [
    "(pd.DataFrame(ratings.groupby('userId')\n",
    "              .count()['rating'])\n",
    "              .plot(kind='hist', color='#4472C4', figsize=(15,5), alpha=0.6))\n",
    "plt.title('Number of ratings by user')\n",
    "plt.xlabel('Rating')\n",
    "plt.ylabel('Count')\n",
    "plt.show()"
   ]
  },
  {
   "cell_type": "code",
   "execution_count": 36,
   "metadata": {
    "ExecuteTime": {
     "end_time": "2020-10-14T20:14:02.702154Z",
     "start_time": "2020-10-14T20:14:02.650185Z"
    }
   },
   "outputs": [
    {
     "data": {
      "text/html": [
       "<div>\n",
       "<style scoped>\n",
       "    .dataframe tbody tr th:only-of-type {\n",
       "        vertical-align: middle;\n",
       "    }\n",
       "\n",
       "    .dataframe tbody tr th {\n",
       "        vertical-align: top;\n",
       "    }\n",
       "\n",
       "    .dataframe thead th {\n",
       "        text-align: right;\n",
       "    }\n",
       "</style>\n",
       "<table border=\"1\" class=\"dataframe\">\n",
       "  <thead>\n",
       "    <tr style=\"text-align: right;\">\n",
       "      <th></th>\n",
       "      <th>rating</th>\n",
       "    </tr>\n",
       "  </thead>\n",
       "  <tbody>\n",
       "    <tr>\n",
       "      <td>count</td>\n",
       "      <td>610.000000</td>\n",
       "    </tr>\n",
       "    <tr>\n",
       "      <td>mean</td>\n",
       "      <td>165.304918</td>\n",
       "    </tr>\n",
       "    <tr>\n",
       "      <td>std</td>\n",
       "      <td>269.480584</td>\n",
       "    </tr>\n",
       "    <tr>\n",
       "      <td>min</td>\n",
       "      <td>20.000000</td>\n",
       "    </tr>\n",
       "    <tr>\n",
       "      <td>25%</td>\n",
       "      <td>35.000000</td>\n",
       "    </tr>\n",
       "    <tr>\n",
       "      <td>50%</td>\n",
       "      <td>70.500000</td>\n",
       "    </tr>\n",
       "    <tr>\n",
       "      <td>75%</td>\n",
       "      <td>168.000000</td>\n",
       "    </tr>\n",
       "    <tr>\n",
       "      <td>max</td>\n",
       "      <td>2698.000000</td>\n",
       "    </tr>\n",
       "  </tbody>\n",
       "</table>\n",
       "</div>"
      ],
      "text/plain": [
       "            rating\n",
       "count   610.000000\n",
       "mean    165.304918\n",
       "std     269.480584\n",
       "min      20.000000\n",
       "25%      35.000000\n",
       "50%      70.500000\n",
       "75%     168.000000\n",
       "max    2698.000000"
      ]
     },
     "execution_count": 36,
     "metadata": {},
     "output_type": "execute_result"
    }
   ],
   "source": [
    "pd.DataFrame(ratings.groupby('userId').count()['rating']).describe()"
   ]
  },
  {
   "cell_type": "markdown",
   "metadata": {},
   "source": [
    "One important aspect of the recommendation system is what makes a movie recommendable. One movie could have an average 5 star rating with only two reviews but that doesn't make that movie the most recommendable movie. For that reason, we'll define a threshold, the threshold will the minimum number of reviews for a movie to be considered as a reliable recommendations. We will drop movies below the threshold value so only popular movies are recommend, we don't have an explicit measure of how popular a movie but we can obtain how many reviews have received every movie. "
   ]
  },
  {
   "cell_type": "code",
   "execution_count": 37,
   "metadata": {
    "ExecuteTime": {
     "end_time": "2020-10-14T20:14:03.146808Z",
     "start_time": "2020-10-14T20:14:02.708151Z"
    },
    "scrolled": true
   },
   "outputs": [
    {
     "data": {
      "image/png": "[encoded data removed]",
      "text/plain": [
       "<Figure size 1080x360 with 1 Axes>"
      ]
     },
     "metadata": {
      "needs_background": "light"
     },
     "output_type": "display_data"
    }
   ],
   "source": [
    "# Reviews per movie plot\n",
    "ratesMovies = pd.DataFrame(ratings['movieId'].value_counts(sort=False))\n",
    "ratesMovies.plot(kind='hist', color='#4472C4', figsize=(15,5), alpha=0.6)\n",
    "plt.title('Reviews per movie')\n",
    "plt.xlabel('Rating')\n",
    "plt.ylabel('Count')\n",
    "plt.show()"
   ]
  },
  {
   "cell_type": "markdown",
   "metadata": {
    "ExecuteTime": {
     "end_time": "2020-10-11T00:02:21.694913Z",
     "start_time": "2020-10-11T00:02:21.688916Z"
    }
   },
   "source": [
    "As a first view, we realize that most of the movies don't have more than 30 reviews but there is no clear value to select as threshold."
   ]
  },
  {
   "cell_type": "code",
   "execution_count": 38,
   "metadata": {
    "ExecuteTime": {
     "end_time": "2020-10-14T20:14:04.345561Z",
     "start_time": "2020-10-14T20:14:03.150810Z"
    }
   },
   "outputs": [
    {
     "data": {
      "image/png": "[encoded data removed]",
      "text/plain": [
       "<Figure size 1080x360 with 1 Axes>"
      ]
     },
     "metadata": {
      "needs_background": "light"
     },
     "output_type": "display_data"
    }
   ],
   "source": [
    "# Reviews per movie plot between 0 and 100\n",
    "ratesMovies.plot.hist(xlim=(0,100), bins=300, color='#4472C4', figsize=(15,5), alpha=0.6)\n",
    "plt.title('Number of reviews for movies')\n",
    "plt.xlabel('Rating')\n",
    "plt.ylabel('Count')\n",
    "plt.show()"
   ]
  },
  {
   "cell_type": "markdown",
   "metadata": {},
   "source": [
    "Taking a closer look we see that most of the movies have less than 30 reviews and after this value the frequency remains constant so this value we will be used as the threshold. Then, we need to remove all those reviews that belong to not popular movies. From the 100,836 initial reviews only 57,358 remained."
   ]
  },
  {
   "cell_type": "code",
   "execution_count": 39,
   "metadata": {
    "ExecuteTime": {
     "end_time": "2020-10-14T20:14:04.357555Z",
     "start_time": "2020-10-14T20:14:04.350563Z"
    }
   },
   "outputs": [],
   "source": [
    "# The threshold is defined\n",
    "threshold = 30"
   ]
  },
  {
   "cell_type": "code",
   "execution_count": 40,
   "metadata": {
    "ExecuteTime": {
     "end_time": "2020-10-14T20:14:04.549640Z",
     "start_time": "2020-10-14T20:14:04.362552Z"
    }
   },
   "outputs": [
    {
     "data": {
      "text/plain": [
       "100836"
      ]
     },
     "execution_count": 40,
     "metadata": {},
     "output_type": "execute_result"
    }
   ],
   "source": [
    "# Ratings before removing the less popular movies\n",
    "len(ratings)"
   ]
  },
  {
   "cell_type": "code",
   "execution_count": 41,
   "metadata": {
    "ExecuteTime": {
     "end_time": "2020-10-14T20:14:04.946942Z",
     "start_time": "2020-10-14T20:14:04.553620Z"
    }
   },
   "outputs": [],
   "source": [
    "# Removing less popular movies\n",
    "ratesMovies.reset_index(inplace=True)\n",
    "ratesMovies.columns=['movieId', 'reviews']\n",
    "ratings = pd.merge(ratings, ratesMovies, on='movieId', how=\"left\").copy()\n",
    "ratings = ratings[ratings['reviews']>threshold].copy()"
   ]
  },
  {
   "cell_type": "code",
   "execution_count": 42,
   "metadata": {
    "ExecuteTime": {
     "end_time": "2020-10-14T20:14:04.981923Z",
     "start_time": "2020-10-14T20:14:04.950941Z"
    }
   },
   "outputs": [
    {
     "data": {
      "text/plain": [
       "57358"
      ]
     },
     "execution_count": 42,
     "metadata": {},
     "output_type": "execute_result"
    }
   ],
   "source": [
    "# Ratings after removing the less popular movies\n",
    "len(ratings)"
   ]
  },
  {
   "cell_type": "code",
   "execution_count": 43,
   "metadata": {
    "ExecuteTime": {
     "end_time": "2020-10-14T20:14:05.137916Z",
     "start_time": "2020-10-14T20:14:04.993918Z"
    }
   },
   "outputs": [],
   "source": [
    "# We will also remove not popular movies from the movies dataset\n",
    "remaining_movies = list(ratings.movieId.values)\n",
    "movies = movies[movies['movieId'].isin(remaining_movies)].copy()"
   ]
  },
  {
   "cell_type": "markdown",
   "metadata": {},
   "source": [
    "### 1.3 Distribution of the ratings dataset\n",
    "\n",
    "As we already told, for the system the movie information and how the users have interacted determines how the movies are recommended. This means that the movies and their characteristics are not as important as the ones in the ratings dataset. Nevertheless, we'll take a quick view of the characteristics in the dataset in order to have a full picture of the data we are handling. \n",
    "Some extra information can be obtained by extracting the year of release for the movies. From that we can conclude that the majority of the movies in the dataset were released near the year 2000."
   ]
  },
  {
   "cell_type": "code",
   "execution_count": 44,
   "metadata": {
    "ExecuteTime": {
     "end_time": "2020-10-14T20:14:05.429884Z",
     "start_time": "2020-10-14T20:14:05.145857Z"
    }
   },
   "outputs": [
    {
     "data": {
      "text/html": [
       "<div>\n",
       "<style scoped>\n",
       "    .dataframe tbody tr th:only-of-type {\n",
       "        vertical-align: middle;\n",
       "    }\n",
       "\n",
       "    .dataframe tbody tr th {\n",
       "        vertical-align: top;\n",
       "    }\n",
       "\n",
       "    .dataframe thead th {\n",
       "        text-align: right;\n",
       "    }\n",
       "</style>\n",
       "<table border=\"1\" class=\"dataframe\">\n",
       "  <thead>\n",
       "    <tr style=\"text-align: right;\">\n",
       "      <th></th>\n",
       "      <th>movieId</th>\n",
       "      <th>title</th>\n",
       "      <th>genres</th>\n",
       "      <th>year</th>\n",
       "    </tr>\n",
       "  </thead>\n",
       "  <tbody>\n",
       "    <tr>\n",
       "      <td>0</td>\n",
       "      <td>1</td>\n",
       "      <td>Toy Story (1995)</td>\n",
       "      <td>Adventure|Animation|Children|Comedy|Fantasy</td>\n",
       "      <td>1995</td>\n",
       "    </tr>\n",
       "    <tr>\n",
       "      <td>1</td>\n",
       "      <td>2</td>\n",
       "      <td>Jumanji (1995)</td>\n",
       "      <td>Adventure|Children|Fantasy</td>\n",
       "      <td>1995</td>\n",
       "    </tr>\n",
       "    <tr>\n",
       "      <td>2</td>\n",
       "      <td>3</td>\n",
       "      <td>Grumpier Old Men (1995)</td>\n",
       "      <td>Comedy|Romance</td>\n",
       "      <td>1995</td>\n",
       "    </tr>\n",
       "    <tr>\n",
       "      <td>4</td>\n",
       "      <td>5</td>\n",
       "      <td>Father of the Bride Part II (1995)</td>\n",
       "      <td>Comedy</td>\n",
       "      <td>1995</td>\n",
       "    </tr>\n",
       "    <tr>\n",
       "      <td>5</td>\n",
       "      <td>6</td>\n",
       "      <td>Heat (1995)</td>\n",
       "      <td>Action|Crime|Thriller</td>\n",
       "      <td>1995</td>\n",
       "    </tr>\n",
       "  </tbody>\n",
       "</table>\n",
       "</div>"
      ],
      "text/plain": [
       "   movieId                               title  \\\n",
       "0        1                    Toy Story (1995)   \n",
       "1        2                      Jumanji (1995)   \n",
       "2        3             Grumpier Old Men (1995)   \n",
       "4        5  Father of the Bride Part II (1995)   \n",
       "5        6                         Heat (1995)   \n",
       "\n",
       "                                        genres  year  \n",
       "0  Adventure|Animation|Children|Comedy|Fantasy  1995  \n",
       "1                   Adventure|Children|Fantasy  1995  \n",
       "2                               Comedy|Romance  1995  \n",
       "4                                       Comedy  1995  \n",
       "5                        Action|Crime|Thriller  1995  "
      ]
     },
     "execution_count": 44,
     "metadata": {},
     "output_type": "execute_result"
    }
   ],
   "source": [
    "# Extracting the year out of the title column\n",
    "movies['year'] = movies['title'].str.extract(r\"\\((\\d+)\\)\", expand=False)\n",
    "movies['year'] = pd.to_numeric(movies['year'])\n",
    "movies.head()"
   ]
  },
  {
   "cell_type": "code",
   "execution_count": 45,
   "metadata": {
    "ExecuteTime": {
     "end_time": "2020-10-14T20:14:06.542488Z",
     "start_time": "2020-10-14T20:14:05.433886Z"
    }
   },
   "outputs": [
    {
     "data": {
      "image/png": "[encoded data removed]",
      "text/plain": [
       "<Figure size 1080x360 with 1 Axes>"
      ]
     },
     "metadata": {
      "needs_background": "light"
     },
     "output_type": "display_data"
    }
   ],
   "source": [
    "# Year of release histogram\n",
    "movies['year'].plot(kind = 'hist', xlim=(1900,2020), bins=300, color='#4472C4', figsize=(15,5), alpha=0.6)\n",
    "plt.title('Year of release of movies')\n",
    "plt.xlabel('Year')\n",
    "plt.ylabel('Frequency')\n",
    "plt.show()"
   ]
  },
  {
   "cell_type": "markdown",
   "metadata": {},
   "source": [
    "Another important characteristic parameter is the movie genre. More than one movie genre can appear for movie description so we will count the number of total occurrences of elements in the Genre column. The most frequent genres are Drama and Comedy, being approximately 4 times more frequent than Fantasy or Horror movies."
   ]
  },
  {
   "cell_type": "code",
   "execution_count": 46,
   "metadata": {
    "ExecuteTime": {
     "end_time": "2020-10-14T20:14:06.599452Z",
     "start_time": "2020-10-14T20:14:06.547482Z"
    }
   },
   "outputs": [
    {
     "data": {
      "text/html": [
       "<div>\n",
       "<style scoped>\n",
       "    .dataframe tbody tr th:only-of-type {\n",
       "        vertical-align: middle;\n",
       "    }\n",
       "\n",
       "    .dataframe tbody tr th {\n",
       "        vertical-align: top;\n",
       "    }\n",
       "\n",
       "    .dataframe thead th {\n",
       "        text-align: right;\n",
       "    }\n",
       "</style>\n",
       "<table border=\"1\" class=\"dataframe\">\n",
       "  <thead>\n",
       "    <tr style=\"text-align: right;\">\n",
       "      <th></th>\n",
       "      <th>index</th>\n",
       "      <th>Genre movies</th>\n",
       "    </tr>\n",
       "  </thead>\n",
       "  <tbody>\n",
       "    <tr>\n",
       "      <td>0</td>\n",
       "      <td>Drama</td>\n",
       "      <td>355</td>\n",
       "    </tr>\n",
       "    <tr>\n",
       "      <td>1</td>\n",
       "      <td>Comedy</td>\n",
       "      <td>345</td>\n",
       "    </tr>\n",
       "    <tr>\n",
       "      <td>2</td>\n",
       "      <td>Action</td>\n",
       "      <td>292</td>\n",
       "    </tr>\n",
       "    <tr>\n",
       "      <td>3</td>\n",
       "      <td>Thriller</td>\n",
       "      <td>242</td>\n",
       "    </tr>\n",
       "    <tr>\n",
       "      <td>4</td>\n",
       "      <td>Adventure</td>\n",
       "      <td>236</td>\n",
       "    </tr>\n",
       "    <tr>\n",
       "      <td>5</td>\n",
       "      <td>Sci-Fi</td>\n",
       "      <td>161</td>\n",
       "    </tr>\n",
       "    <tr>\n",
       "      <td>6</td>\n",
       "      <td>Romance</td>\n",
       "      <td>159</td>\n",
       "    </tr>\n",
       "    <tr>\n",
       "      <td>7</td>\n",
       "      <td>Crime</td>\n",
       "      <td>150</td>\n",
       "    </tr>\n",
       "    <tr>\n",
       "      <td>8</td>\n",
       "      <td>Fantasy</td>\n",
       "      <td>120</td>\n",
       "    </tr>\n",
       "    <tr>\n",
       "      <td>9</td>\n",
       "      <td>Children</td>\n",
       "      <td>82</td>\n",
       "    </tr>\n",
       "  </tbody>\n",
       "</table>\n",
       "</div>"
      ],
      "text/plain": [
       "       index  Genre movies\n",
       "0      Drama           355\n",
       "1     Comedy           345\n",
       "2     Action           292\n",
       "3   Thriller           242\n",
       "4  Adventure           236\n",
       "5     Sci-Fi           161\n",
       "6    Romance           159\n",
       "7      Crime           150\n",
       "8    Fantasy           120\n",
       "9   Children            82"
      ]
     },
     "execution_count": 46,
     "metadata": {},
     "output_type": "execute_result"
    }
   ],
   "source": [
    "# Genre frequency list\n",
    "genres = list(movies.genres.values)\n",
    "movie_genres = [movie.split('|') for movie in genres]\n",
    "movie_genres = [x for sublist in movie_genres for x in sublist]\n",
    "genres_freq = pd.DataFrame(pd.Series(movie_genres, name='Genre movies').value_counts().head(10))\n",
    "genres_freq.reset_index(inplace=True)\n",
    "genres_freq"
   ]
  },
  {
   "cell_type": "code",
   "execution_count": 47,
   "metadata": {
    "ExecuteTime": {
     "end_time": "2020-10-14T20:14:07.089175Z",
     "start_time": "2020-10-14T20:14:06.605450Z"
    }
   },
   "outputs": [
    {
     "data": {
      "image/png": "[encoded data removed]",
      "text/plain": [
       "<Figure size 1152x432 with 1 Axes>"
      ]
     },
     "metadata": {
      "needs_background": "light"
     },
     "output_type": "display_data"
    }
   ],
   "source": [
    "# Genre frequency barplot\n",
    "fig = plt.figure(figsize=(16,6))\n",
    "ax = sns.barplot(x=\"index\", y=\"Genre movies\", data=genres_freq)\n",
    "plt.title('Frequency of movies genres', size=18)\n",
    "plt.xticks(size=12)\n",
    "plt.xlabel('Movie genre', size=12)\n",
    "plt.yticks(size=12)\n",
    "plt.ylabel('Movies count', size=12)\n",
    "plt.grid(alpha=0.5)\n",
    "plt.show()"
   ]
  },
  {
   "cell_type": "markdown",
   "metadata": {},
   "source": [
    "### 1.4 Top movies\n",
    "\n",
    "Finally, since this is a real users dataset, just for fun we can see what are the best rated popular movies and what are worst rated popular movies. One interesting fact is that Drama genre is frequent in the top rated movies, also Crime movies, even though there are not frequent, are really well rated. On the other hand, action and comedy movies are frequent genres in the worst rated movies."
   ]
  },
  {
   "cell_type": "code",
   "execution_count": 48,
   "metadata": {
    "ExecuteTime": {
     "end_time": "2020-10-14T20:14:07.215803Z",
     "start_time": "2020-10-14T20:14:07.094169Z"
    }
   },
   "outputs": [],
   "source": [
    "# Obtaining mean rating for every movie\n",
    "sorted_movies = ratings.groupby('movieId').mean()\n",
    "sorted_movies.sort_values(['rating', 'reviews'], ascending=[False, False], inplace = True)\n",
    "top10movies = list(sorted_movies.head(10).index)\n",
    "bottom10movies = list(sorted_movies.tail(10).index)"
   ]
  },
  {
   "cell_type": "code",
   "execution_count": 49,
   "metadata": {
    "ExecuteTime": {
     "end_time": "2020-10-14T20:14:07.388864Z",
     "start_time": "2020-10-14T20:14:07.219745Z"
    },
    "scrolled": true
   },
   "outputs": [
    {
     "data": {
      "text/html": [
       "<div>\n",
       "<style scoped>\n",
       "    .dataframe tbody tr th:only-of-type {\n",
       "        vertical-align: middle;\n",
       "    }\n",
       "\n",
       "    .dataframe tbody tr th {\n",
       "        vertical-align: top;\n",
       "    }\n",
       "\n",
       "    .dataframe thead th {\n",
       "        text-align: right;\n",
       "    }\n",
       "</style>\n",
       "<table border=\"1\" class=\"dataframe\">\n",
       "  <thead>\n",
       "    <tr style=\"text-align: right;\">\n",
       "      <th></th>\n",
       "      <th>movieId</th>\n",
       "      <th>title</th>\n",
       "      <th>genres</th>\n",
       "      <th>year</th>\n",
       "    </tr>\n",
       "  </thead>\n",
       "  <tbody>\n",
       "    <tr>\n",
       "      <td>277</td>\n",
       "      <td>318</td>\n",
       "      <td>Shawshank Redemption, The (1994)</td>\n",
       "      <td>Crime|Drama</td>\n",
       "      <td>1994</td>\n",
       "    </tr>\n",
       "    <tr>\n",
       "      <td>602</td>\n",
       "      <td>750</td>\n",
       "      <td>Dr. Strangelove or: How I Learned to Stop Worr...</td>\n",
       "      <td>Comedy|War</td>\n",
       "      <td>1964</td>\n",
       "    </tr>\n",
       "    <tr>\n",
       "      <td>659</td>\n",
       "      <td>858</td>\n",
       "      <td>Godfather, The (1972)</td>\n",
       "      <td>Crime|Drama</td>\n",
       "      <td>1972</td>\n",
       "    </tr>\n",
       "    <tr>\n",
       "      <td>686</td>\n",
       "      <td>904</td>\n",
       "      <td>Rear Window (1954)</td>\n",
       "      <td>Mystery|Thriller</td>\n",
       "      <td>1954</td>\n",
       "    </tr>\n",
       "    <tr>\n",
       "      <td>906</td>\n",
       "      <td>1204</td>\n",
       "      <td>Lawrence of Arabia (1962)</td>\n",
       "      <td>Adventure|Drama|War</td>\n",
       "      <td>1962</td>\n",
       "    </tr>\n",
       "    <tr>\n",
       "      <td>914</td>\n",
       "      <td>1213</td>\n",
       "      <td>Goodfellas (1990)</td>\n",
       "      <td>Crime|Drama</td>\n",
       "      <td>1990</td>\n",
       "    </tr>\n",
       "    <tr>\n",
       "      <td>922</td>\n",
       "      <td>1221</td>\n",
       "      <td>Godfather: Part II, The (1974)</td>\n",
       "      <td>Crime|Drama</td>\n",
       "      <td>1974</td>\n",
       "    </tr>\n",
       "    <tr>\n",
       "      <td>975</td>\n",
       "      <td>1276</td>\n",
       "      <td>Cool Hand Luke (1967)</td>\n",
       "      <td>Drama</td>\n",
       "      <td>1967</td>\n",
       "    </tr>\n",
       "    <tr>\n",
       "      <td>2226</td>\n",
       "      <td>2959</td>\n",
       "      <td>Fight Club (1999)</td>\n",
       "      <td>Action|Crime|Drama|Thriller</td>\n",
       "      <td>1999</td>\n",
       "    </tr>\n",
       "    <tr>\n",
       "      <td>6315</td>\n",
       "      <td>48516</td>\n",
       "      <td>Departed, The (2006)</td>\n",
       "      <td>Crime|Drama|Thriller</td>\n",
       "      <td>2006</td>\n",
       "    </tr>\n",
       "  </tbody>\n",
       "</table>\n",
       "</div>"
      ],
      "text/plain": [
       "      movieId                                              title  \\\n",
       "277       318                   Shawshank Redemption, The (1994)   \n",
       "602       750  Dr. Strangelove or: How I Learned to Stop Worr...   \n",
       "659       858                              Godfather, The (1972)   \n",
       "686       904                                 Rear Window (1954)   \n",
       "906      1204                          Lawrence of Arabia (1962)   \n",
       "914      1213                                  Goodfellas (1990)   \n",
       "922      1221                     Godfather: Part II, The (1974)   \n",
       "975      1276                              Cool Hand Luke (1967)   \n",
       "2226     2959                                  Fight Club (1999)   \n",
       "6315    48516                               Departed, The (2006)   \n",
       "\n",
       "                           genres  year  \n",
       "277                   Crime|Drama  1994  \n",
       "602                    Comedy|War  1964  \n",
       "659                   Crime|Drama  1972  \n",
       "686              Mystery|Thriller  1954  \n",
       "906           Adventure|Drama|War  1962  \n",
       "914                   Crime|Drama  1990  \n",
       "922                   Crime|Drama  1974  \n",
       "975                         Drama  1967  \n",
       "2226  Action|Crime|Drama|Thriller  1999  \n",
       "6315         Crime|Drama|Thriller  2006  "
      ]
     },
     "execution_count": 49,
     "metadata": {},
     "output_type": "execute_result"
    }
   ],
   "source": [
    "# Top rated movies\n",
    "movies[movies['movieId'].isin(top10movies)]"
   ]
  },
  {
   "cell_type": "code",
   "execution_count": 50,
   "metadata": {
    "ExecuteTime": {
     "end_time": "2020-10-14T20:14:07.493906Z",
     "start_time": "2020-10-14T20:14:07.392863Z"
    }
   },
   "outputs": [
    {
     "data": {
      "text/html": [
       "<div>\n",
       "<style scoped>\n",
       "    .dataframe tbody tr th:only-of-type {\n",
       "        vertical-align: middle;\n",
       "    }\n",
       "\n",
       "    .dataframe tbody tr th {\n",
       "        vertical-align: top;\n",
       "    }\n",
       "\n",
       "    .dataframe thead th {\n",
       "        text-align: right;\n",
       "    }\n",
       "</style>\n",
       "<table border=\"1\" class=\"dataframe\">\n",
       "  <thead>\n",
       "    <tr style=\"text-align: right;\">\n",
       "      <th></th>\n",
       "      <th>movieId</th>\n",
       "      <th>title</th>\n",
       "      <th>genres</th>\n",
       "      <th>year</th>\n",
       "    </tr>\n",
       "  </thead>\n",
       "  <tbody>\n",
       "    <tr>\n",
       "      <td>163</td>\n",
       "      <td>193</td>\n",
       "      <td>Showgirls (1995)</td>\n",
       "      <td>Drama</td>\n",
       "      <td>1995</td>\n",
       "    </tr>\n",
       "    <tr>\n",
       "      <td>313</td>\n",
       "      <td>355</td>\n",
       "      <td>Flintstones, The (1994)</td>\n",
       "      <td>Children|Comedy|Fantasy</td>\n",
       "      <td>1994</td>\n",
       "    </tr>\n",
       "    <tr>\n",
       "      <td>379</td>\n",
       "      <td>435</td>\n",
       "      <td>Coneheads (1993)</td>\n",
       "      <td>Comedy|Sci-Fi</td>\n",
       "      <td>1993</td>\n",
       "    </tr>\n",
       "    <tr>\n",
       "      <td>396</td>\n",
       "      <td>455</td>\n",
       "      <td>Free Willy (1993)</td>\n",
       "      <td>Adventure|Children|Drama</td>\n",
       "      <td>1993</td>\n",
       "    </tr>\n",
       "    <tr>\n",
       "      <td>607</td>\n",
       "      <td>762</td>\n",
       "      <td>Striptease (1996)</td>\n",
       "      <td>Comedy|Crime</td>\n",
       "      <td>1996</td>\n",
       "    </tr>\n",
       "    <tr>\n",
       "      <td>1174</td>\n",
       "      <td>1562</td>\n",
       "      <td>Batman &amp; Robin (1997)</td>\n",
       "      <td>Action|Adventure|Fantasy|Thriller</td>\n",
       "      <td>1997</td>\n",
       "    </tr>\n",
       "    <tr>\n",
       "      <td>1235</td>\n",
       "      <td>1644</td>\n",
       "      <td>I Know What You Did Last Summer (1997)</td>\n",
       "      <td>Horror|Mystery|Thriller</td>\n",
       "      <td>1997</td>\n",
       "    </tr>\n",
       "    <tr>\n",
       "      <td>1373</td>\n",
       "      <td>1882</td>\n",
       "      <td>Godzilla (1998)</td>\n",
       "      <td>Action|Sci-Fi|Thriller</td>\n",
       "      <td>1998</td>\n",
       "    </tr>\n",
       "    <tr>\n",
       "      <td>2029</td>\n",
       "      <td>2701</td>\n",
       "      <td>Wild Wild West (1999)</td>\n",
       "      <td>Action|Comedy|Sci-Fi|Western</td>\n",
       "      <td>1999</td>\n",
       "    </tr>\n",
       "    <tr>\n",
       "      <td>2860</td>\n",
       "      <td>3826</td>\n",
       "      <td>Hollow Man (2000)</td>\n",
       "      <td>Horror|Sci-Fi|Thriller</td>\n",
       "      <td>2000</td>\n",
       "    </tr>\n",
       "  </tbody>\n",
       "</table>\n",
       "</div>"
      ],
      "text/plain": [
       "      movieId                                   title  \\\n",
       "163       193                        Showgirls (1995)   \n",
       "313       355                 Flintstones, The (1994)   \n",
       "379       435                        Coneheads (1993)   \n",
       "396       455                       Free Willy (1993)   \n",
       "607       762                       Striptease (1996)   \n",
       "1174     1562                   Batman & Robin (1997)   \n",
       "1235     1644  I Know What You Did Last Summer (1997)   \n",
       "1373     1882                         Godzilla (1998)   \n",
       "2029     2701                   Wild Wild West (1999)   \n",
       "2860     3826                       Hollow Man (2000)   \n",
       "\n",
       "                                 genres  year  \n",
       "163                               Drama  1995  \n",
       "313             Children|Comedy|Fantasy  1994  \n",
       "379                       Comedy|Sci-Fi  1993  \n",
       "396            Adventure|Children|Drama  1993  \n",
       "607                        Comedy|Crime  1996  \n",
       "1174  Action|Adventure|Fantasy|Thriller  1997  \n",
       "1235            Horror|Mystery|Thriller  1997  \n",
       "1373             Action|Sci-Fi|Thriller  1998  \n",
       "2029       Action|Comedy|Sci-Fi|Western  1999  \n",
       "2860             Horror|Sci-Fi|Thriller  2000  "
      ]
     },
     "execution_count": 50,
     "metadata": {},
     "output_type": "execute_result"
    }
   ],
   "source": [
    "# Worst rated movies\n",
    "movies[movies['movieId'].isin(bottom10movies)]"
   ]
  },
  {
   "cell_type": "markdown",
   "metadata": {},
   "source": [
    "## 2. User Item Matrix\n",
    "\n",
    "After that, we need to create the User Item Matrix, this is a matrix with all the movies in the dataset as columns and all the users as rows, so every element inside the matrix represents what is the evaluation a user has made for a particular movie. In the matrix, a column (specific movie) will contain all the evaluations the users have made for that movie meanwhile every row will contain all the ratings made from the same user.\n",
    "\n",
    "<img src=\"images/uim.png\" alt=\"Figure 1\" style=\"width: 500px;\"/><p style=\"text-align:center;font-size: 11px;\">User Item Matrix</p>\n",
    "\n",
    "For that, we start by selecting only the useful information from the ratings dataset ('userId', 'movieId', 'rating') and then use a pivot table to define users as rows, movies as columns and the ratings as values of the matrix. Due to the unseen movies, lots of the values will be presented as 'NaN', these 'NaN' values will be replaced by 0 to represent unseen movies since the scale of evaluation minimum value is 0.5."
   ]
  },
  {
   "cell_type": "code",
   "execution_count": 51,
   "metadata": {
    "ExecuteTime": {
     "end_time": "2020-10-14T20:14:07.694144Z",
     "start_time": "2020-10-14T20:14:07.498902Z"
    }
   },
   "outputs": [
    {
     "data": {
      "text/html": [
       "<div>\n",
       "<style scoped>\n",
       "    .dataframe tbody tr th:only-of-type {\n",
       "        vertical-align: middle;\n",
       "    }\n",
       "\n",
       "    .dataframe tbody tr th {\n",
       "        vertical-align: top;\n",
       "    }\n",
       "\n",
       "    .dataframe thead th {\n",
       "        text-align: right;\n",
       "    }\n",
       "</style>\n",
       "<table border=\"1\" class=\"dataframe\">\n",
       "  <thead>\n",
       "    <tr style=\"text-align: right;\">\n",
       "      <th></th>\n",
       "      <th>userId</th>\n",
       "      <th>movieId</th>\n",
       "      <th>rating</th>\n",
       "    </tr>\n",
       "  </thead>\n",
       "  <tbody>\n",
       "    <tr>\n",
       "      <td>0</td>\n",
       "      <td>1</td>\n",
       "      <td>1</td>\n",
       "      <td>4.0</td>\n",
       "    </tr>\n",
       "    <tr>\n",
       "      <td>1</td>\n",
       "      <td>1</td>\n",
       "      <td>3</td>\n",
       "      <td>4.0</td>\n",
       "    </tr>\n",
       "    <tr>\n",
       "      <td>2</td>\n",
       "      <td>1</td>\n",
       "      <td>6</td>\n",
       "      <td>4.0</td>\n",
       "    </tr>\n",
       "    <tr>\n",
       "      <td>3</td>\n",
       "      <td>1</td>\n",
       "      <td>47</td>\n",
       "      <td>5.0</td>\n",
       "    </tr>\n",
       "    <tr>\n",
       "      <td>4</td>\n",
       "      <td>1</td>\n",
       "      <td>50</td>\n",
       "      <td>5.0</td>\n",
       "    </tr>\n",
       "  </tbody>\n",
       "</table>\n",
       "</div>"
      ],
      "text/plain": [
       "   userId  movieId  rating\n",
       "0       1        1     4.0\n",
       "1       1        3     4.0\n",
       "2       1        6     4.0\n",
       "3       1       47     5.0\n",
       "4       1       50     5.0"
      ]
     },
     "execution_count": 51,
     "metadata": {},
     "output_type": "execute_result"
    }
   ],
   "source": [
    "# Getting only significant columns for the UIM matrix\n",
    "uim = ratings[['userId', 'movieId', 'rating']].copy()\n",
    "uim.head()"
   ]
  },
  {
   "cell_type": "code",
   "execution_count": 52,
   "metadata": {
    "ExecuteTime": {
     "end_time": "2020-10-14T20:14:08.003463Z",
     "start_time": "2020-10-14T20:14:07.698139Z"
    }
   },
   "outputs": [
    {
     "data": {
      "text/html": [
       "<div>\n",
       "<style scoped>\n",
       "    .dataframe tbody tr th:only-of-type {\n",
       "        vertical-align: middle;\n",
       "    }\n",
       "\n",
       "    .dataframe tbody tr th {\n",
       "        vertical-align: top;\n",
       "    }\n",
       "\n",
       "    .dataframe thead th {\n",
       "        text-align: right;\n",
       "    }\n",
       "</style>\n",
       "<table border=\"1\" class=\"dataframe\">\n",
       "  <thead>\n",
       "    <tr style=\"text-align: right;\">\n",
       "      <th>movieId</th>\n",
       "      <th>1</th>\n",
       "      <th>2</th>\n",
       "      <th>3</th>\n",
       "      <th>5</th>\n",
       "      <th>6</th>\n",
       "      <th>7</th>\n",
       "      <th>10</th>\n",
       "      <th>11</th>\n",
       "      <th>16</th>\n",
       "      <th>17</th>\n",
       "      <th>...</th>\n",
       "      <th>115617</th>\n",
       "      <th>116797</th>\n",
       "      <th>119145</th>\n",
       "      <th>122882</th>\n",
       "      <th>122886</th>\n",
       "      <th>122904</th>\n",
       "      <th>134130</th>\n",
       "      <th>134853</th>\n",
       "      <th>139385</th>\n",
       "      <th>152081</th>\n",
       "    </tr>\n",
       "    <tr>\n",
       "      <th>userId</th>\n",
       "      <th></th>\n",
       "      <th></th>\n",
       "      <th></th>\n",
       "      <th></th>\n",
       "      <th></th>\n",
       "      <th></th>\n",
       "      <th></th>\n",
       "      <th></th>\n",
       "      <th></th>\n",
       "      <th></th>\n",
       "      <th></th>\n",
       "      <th></th>\n",
       "      <th></th>\n",
       "      <th></th>\n",
       "      <th></th>\n",
       "      <th></th>\n",
       "      <th></th>\n",
       "      <th></th>\n",
       "      <th></th>\n",
       "      <th></th>\n",
       "      <th></th>\n",
       "    </tr>\n",
       "  </thead>\n",
       "  <tbody>\n",
       "    <tr>\n",
       "      <td>1</td>\n",
       "      <td>4.0</td>\n",
       "      <td>NaN</td>\n",
       "      <td>4.0</td>\n",
       "      <td>NaN</td>\n",
       "      <td>4.0</td>\n",
       "      <td>NaN</td>\n",
       "      <td>NaN</td>\n",
       "      <td>NaN</td>\n",
       "      <td>NaN</td>\n",
       "      <td>NaN</td>\n",
       "      <td>...</td>\n",
       "      <td>NaN</td>\n",
       "      <td>NaN</td>\n",
       "      <td>NaN</td>\n",
       "      <td>NaN</td>\n",
       "      <td>NaN</td>\n",
       "      <td>NaN</td>\n",
       "      <td>NaN</td>\n",
       "      <td>NaN</td>\n",
       "      <td>NaN</td>\n",
       "      <td>NaN</td>\n",
       "    </tr>\n",
       "    <tr>\n",
       "      <td>2</td>\n",
       "      <td>NaN</td>\n",
       "      <td>NaN</td>\n",
       "      <td>NaN</td>\n",
       "      <td>NaN</td>\n",
       "      <td>NaN</td>\n",
       "      <td>NaN</td>\n",
       "      <td>NaN</td>\n",
       "      <td>NaN</td>\n",
       "      <td>NaN</td>\n",
       "      <td>NaN</td>\n",
       "      <td>...</td>\n",
       "      <td>NaN</td>\n",
       "      <td>NaN</td>\n",
       "      <td>NaN</td>\n",
       "      <td>5.0</td>\n",
       "      <td>NaN</td>\n",
       "      <td>NaN</td>\n",
       "      <td>NaN</td>\n",
       "      <td>NaN</td>\n",
       "      <td>NaN</td>\n",
       "      <td>NaN</td>\n",
       "    </tr>\n",
       "    <tr>\n",
       "      <td>3</td>\n",
       "      <td>NaN</td>\n",
       "      <td>NaN</td>\n",
       "      <td>NaN</td>\n",
       "      <td>NaN</td>\n",
       "      <td>NaN</td>\n",
       "      <td>NaN</td>\n",
       "      <td>NaN</td>\n",
       "      <td>NaN</td>\n",
       "      <td>NaN</td>\n",
       "      <td>NaN</td>\n",
       "      <td>...</td>\n",
       "      <td>NaN</td>\n",
       "      <td>NaN</td>\n",
       "      <td>NaN</td>\n",
       "      <td>NaN</td>\n",
       "      <td>NaN</td>\n",
       "      <td>NaN</td>\n",
       "      <td>NaN</td>\n",
       "      <td>NaN</td>\n",
       "      <td>NaN</td>\n",
       "      <td>NaN</td>\n",
       "    </tr>\n",
       "    <tr>\n",
       "      <td>4</td>\n",
       "      <td>NaN</td>\n",
       "      <td>NaN</td>\n",
       "      <td>NaN</td>\n",
       "      <td>NaN</td>\n",
       "      <td>NaN</td>\n",
       "      <td>NaN</td>\n",
       "      <td>NaN</td>\n",
       "      <td>NaN</td>\n",
       "      <td>NaN</td>\n",
       "      <td>NaN</td>\n",
       "      <td>...</td>\n",
       "      <td>NaN</td>\n",
       "      <td>NaN</td>\n",
       "      <td>NaN</td>\n",
       "      <td>NaN</td>\n",
       "      <td>NaN</td>\n",
       "      <td>NaN</td>\n",
       "      <td>NaN</td>\n",
       "      <td>NaN</td>\n",
       "      <td>NaN</td>\n",
       "      <td>NaN</td>\n",
       "    </tr>\n",
       "    <tr>\n",
       "      <td>5</td>\n",
       "      <td>4.0</td>\n",
       "      <td>NaN</td>\n",
       "      <td>NaN</td>\n",
       "      <td>NaN</td>\n",
       "      <td>NaN</td>\n",
       "      <td>NaN</td>\n",
       "      <td>NaN</td>\n",
       "      <td>NaN</td>\n",
       "      <td>NaN</td>\n",
       "      <td>NaN</td>\n",
       "      <td>...</td>\n",
       "      <td>NaN</td>\n",
       "      <td>NaN</td>\n",
       "      <td>NaN</td>\n",
       "      <td>NaN</td>\n",
       "      <td>NaN</td>\n",
       "      <td>NaN</td>\n",
       "      <td>NaN</td>\n",
       "      <td>NaN</td>\n",
       "      <td>NaN</td>\n",
       "      <td>NaN</td>\n",
       "    </tr>\n",
       "  </tbody>\n",
       "</table>\n",
       "<p>5 rows × 860 columns</p>\n",
       "</div>"
      ],
      "text/plain": [
       "movieId  1       2       3       5       6       7       10      11      \\\n",
       "userId                                                                    \n",
       "1           4.0     NaN     4.0     NaN     4.0     NaN     NaN     NaN   \n",
       "2           NaN     NaN     NaN     NaN     NaN     NaN     NaN     NaN   \n",
       "3           NaN     NaN     NaN     NaN     NaN     NaN     NaN     NaN   \n",
       "4           NaN     NaN     NaN     NaN     NaN     NaN     NaN     NaN   \n",
       "5           4.0     NaN     NaN     NaN     NaN     NaN     NaN     NaN   \n",
       "\n",
       "movieId  16      17      ...  115617  116797  119145  122882  122886  122904  \\\n",
       "userId                   ...                                                   \n",
       "1           NaN     NaN  ...     NaN     NaN     NaN     NaN     NaN     NaN   \n",
       "2           NaN     NaN  ...     NaN     NaN     NaN     5.0     NaN     NaN   \n",
       "3           NaN     NaN  ...     NaN     NaN     NaN     NaN     NaN     NaN   \n",
       "4           NaN     NaN  ...     NaN     NaN     NaN     NaN     NaN     NaN   \n",
       "5           NaN     NaN  ...     NaN     NaN     NaN     NaN     NaN     NaN   \n",
       "\n",
       "movieId  134130  134853  139385  152081  \n",
       "userId                                   \n",
       "1           NaN     NaN     NaN     NaN  \n",
       "2           NaN     NaN     NaN     NaN  \n",
       "3           NaN     NaN     NaN     NaN  \n",
       "4           NaN     NaN     NaN     NaN  \n",
       "5           NaN     NaN     NaN     NaN  \n",
       "\n",
       "[5 rows x 860 columns]"
      ]
     },
     "execution_count": 52,
     "metadata": {},
     "output_type": "execute_result"
    }
   ],
   "source": [
    "# Creating UIM matrix using pivot\n",
    "uim = uim.pivot(index='userId', columns='movieId', values='rating')\n",
    "uim.head()"
   ]
  },
  {
   "cell_type": "code",
   "execution_count": 53,
   "metadata": {
    "ExecuteTime": {
     "end_time": "2020-10-14T20:14:08.116386Z",
     "start_time": "2020-10-14T20:14:08.007442Z"
    }
   },
   "outputs": [
    {
     "data": {
      "text/html": [
       "<div>\n",
       "<style scoped>\n",
       "    .dataframe tbody tr th:only-of-type {\n",
       "        vertical-align: middle;\n",
       "    }\n",
       "\n",
       "    .dataframe tbody tr th {\n",
       "        vertical-align: top;\n",
       "    }\n",
       "\n",
       "    .dataframe thead th {\n",
       "        text-align: right;\n",
       "    }\n",
       "</style>\n",
       "<table border=\"1\" class=\"dataframe\">\n",
       "  <thead>\n",
       "    <tr style=\"text-align: right;\">\n",
       "      <th>movieId</th>\n",
       "      <th>1</th>\n",
       "      <th>2</th>\n",
       "      <th>3</th>\n",
       "      <th>5</th>\n",
       "      <th>6</th>\n",
       "      <th>7</th>\n",
       "      <th>10</th>\n",
       "      <th>11</th>\n",
       "      <th>16</th>\n",
       "      <th>17</th>\n",
       "      <th>...</th>\n",
       "      <th>115617</th>\n",
       "      <th>116797</th>\n",
       "      <th>119145</th>\n",
       "      <th>122882</th>\n",
       "      <th>122886</th>\n",
       "      <th>122904</th>\n",
       "      <th>134130</th>\n",
       "      <th>134853</th>\n",
       "      <th>139385</th>\n",
       "      <th>152081</th>\n",
       "    </tr>\n",
       "    <tr>\n",
       "      <th>userId</th>\n",
       "      <th></th>\n",
       "      <th></th>\n",
       "      <th></th>\n",
       "      <th></th>\n",
       "      <th></th>\n",
       "      <th></th>\n",
       "      <th></th>\n",
       "      <th></th>\n",
       "      <th></th>\n",
       "      <th></th>\n",
       "      <th></th>\n",
       "      <th></th>\n",
       "      <th></th>\n",
       "      <th></th>\n",
       "      <th></th>\n",
       "      <th></th>\n",
       "      <th></th>\n",
       "      <th></th>\n",
       "      <th></th>\n",
       "      <th></th>\n",
       "      <th></th>\n",
       "    </tr>\n",
       "  </thead>\n",
       "  <tbody>\n",
       "    <tr>\n",
       "      <td>1</td>\n",
       "      <td>4.0</td>\n",
       "      <td>0.0</td>\n",
       "      <td>4.0</td>\n",
       "      <td>0.0</td>\n",
       "      <td>4.0</td>\n",
       "      <td>0.0</td>\n",
       "      <td>0.0</td>\n",
       "      <td>0.0</td>\n",
       "      <td>0.0</td>\n",
       "      <td>0.0</td>\n",
       "      <td>...</td>\n",
       "      <td>0.0</td>\n",
       "      <td>0.0</td>\n",
       "      <td>0.0</td>\n",
       "      <td>0.0</td>\n",
       "      <td>0.0</td>\n",
       "      <td>0.0</td>\n",
       "      <td>0.0</td>\n",
       "      <td>0.0</td>\n",
       "      <td>0.0</td>\n",
       "      <td>0.0</td>\n",
       "    </tr>\n",
       "    <tr>\n",
       "      <td>2</td>\n",
       "      <td>0.0</td>\n",
       "      <td>0.0</td>\n",
       "      <td>0.0</td>\n",
       "      <td>0.0</td>\n",
       "      <td>0.0</td>\n",
       "      <td>0.0</td>\n",
       "      <td>0.0</td>\n",
       "      <td>0.0</td>\n",
       "      <td>0.0</td>\n",
       "      <td>0.0</td>\n",
       "      <td>...</td>\n",
       "      <td>0.0</td>\n",
       "      <td>0.0</td>\n",
       "      <td>0.0</td>\n",
       "      <td>5.0</td>\n",
       "      <td>0.0</td>\n",
       "      <td>0.0</td>\n",
       "      <td>0.0</td>\n",
       "      <td>0.0</td>\n",
       "      <td>0.0</td>\n",
       "      <td>0.0</td>\n",
       "    </tr>\n",
       "    <tr>\n",
       "      <td>3</td>\n",
       "      <td>0.0</td>\n",
       "      <td>0.0</td>\n",
       "      <td>0.0</td>\n",
       "      <td>0.0</td>\n",
       "      <td>0.0</td>\n",
       "      <td>0.0</td>\n",
       "      <td>0.0</td>\n",
       "      <td>0.0</td>\n",
       "      <td>0.0</td>\n",
       "      <td>0.0</td>\n",
       "      <td>...</td>\n",
       "      <td>0.0</td>\n",
       "      <td>0.0</td>\n",
       "      <td>0.0</td>\n",
       "      <td>0.0</td>\n",
       "      <td>0.0</td>\n",
       "      <td>0.0</td>\n",
       "      <td>0.0</td>\n",
       "      <td>0.0</td>\n",
       "      <td>0.0</td>\n",
       "      <td>0.0</td>\n",
       "    </tr>\n",
       "    <tr>\n",
       "      <td>4</td>\n",
       "      <td>0.0</td>\n",
       "      <td>0.0</td>\n",
       "      <td>0.0</td>\n",
       "      <td>0.0</td>\n",
       "      <td>0.0</td>\n",
       "      <td>0.0</td>\n",
       "      <td>0.0</td>\n",
       "      <td>0.0</td>\n",
       "      <td>0.0</td>\n",
       "      <td>0.0</td>\n",
       "      <td>...</td>\n",
       "      <td>0.0</td>\n",
       "      <td>0.0</td>\n",
       "      <td>0.0</td>\n",
       "      <td>0.0</td>\n",
       "      <td>0.0</td>\n",
       "      <td>0.0</td>\n",
       "      <td>0.0</td>\n",
       "      <td>0.0</td>\n",
       "      <td>0.0</td>\n",
       "      <td>0.0</td>\n",
       "    </tr>\n",
       "    <tr>\n",
       "      <td>5</td>\n",
       "      <td>4.0</td>\n",
       "      <td>0.0</td>\n",
       "      <td>0.0</td>\n",
       "      <td>0.0</td>\n",
       "      <td>0.0</td>\n",
       "      <td>0.0</td>\n",
       "      <td>0.0</td>\n",
       "      <td>0.0</td>\n",
       "      <td>0.0</td>\n",
       "      <td>0.0</td>\n",
       "      <td>...</td>\n",
       "      <td>0.0</td>\n",
       "      <td>0.0</td>\n",
       "      <td>0.0</td>\n",
       "      <td>0.0</td>\n",
       "      <td>0.0</td>\n",
       "      <td>0.0</td>\n",
       "      <td>0.0</td>\n",
       "      <td>0.0</td>\n",
       "      <td>0.0</td>\n",
       "      <td>0.0</td>\n",
       "    </tr>\n",
       "  </tbody>\n",
       "</table>\n",
       "<p>5 rows × 860 columns</p>\n",
       "</div>"
      ],
      "text/plain": [
       "movieId  1       2       3       5       6       7       10      11      \\\n",
       "userId                                                                    \n",
       "1           4.0     0.0     4.0     0.0     4.0     0.0     0.0     0.0   \n",
       "2           0.0     0.0     0.0     0.0     0.0     0.0     0.0     0.0   \n",
       "3           0.0     0.0     0.0     0.0     0.0     0.0     0.0     0.0   \n",
       "4           0.0     0.0     0.0     0.0     0.0     0.0     0.0     0.0   \n",
       "5           4.0     0.0     0.0     0.0     0.0     0.0     0.0     0.0   \n",
       "\n",
       "movieId  16      17      ...  115617  116797  119145  122882  122886  122904  \\\n",
       "userId                   ...                                                   \n",
       "1           0.0     0.0  ...     0.0     0.0     0.0     0.0     0.0     0.0   \n",
       "2           0.0     0.0  ...     0.0     0.0     0.0     5.0     0.0     0.0   \n",
       "3           0.0     0.0  ...     0.0     0.0     0.0     0.0     0.0     0.0   \n",
       "4           0.0     0.0  ...     0.0     0.0     0.0     0.0     0.0     0.0   \n",
       "5           0.0     0.0  ...     0.0     0.0     0.0     0.0     0.0     0.0   \n",
       "\n",
       "movieId  134130  134853  139385  152081  \n",
       "userId                                   \n",
       "1           0.0     0.0     0.0     0.0  \n",
       "2           0.0     0.0     0.0     0.0  \n",
       "3           0.0     0.0     0.0     0.0  \n",
       "4           0.0     0.0     0.0     0.0  \n",
       "5           0.0     0.0     0.0     0.0  \n",
       "\n",
       "[5 rows x 860 columns]"
      ]
     },
     "execution_count": 53,
     "metadata": {},
     "output_type": "execute_result"
    }
   ],
   "source": [
    "# Filling NA's with 0\n",
    "uim = uim.fillna(0)\n",
    "uim.head()"
   ]
  },
  {
   "cell_type": "markdown",
   "metadata": {},
   "source": [
    "## 3. Similar User Search\n",
    "\n",
    "Once we have represented as rows all the reviews made by a particular user we need a way to compare the similarity between a new user and the users from the dataset, for this we will implement Cosine Similarity method.\n",
    "\n",
    "Cosine similarity measures the similarity between two vectors of an inner product space. It is measured by the cosine of the angle between two vectors and determines whether two vectors are pointing in roughly the same direction. A vector can represent  thousands of attributes, in this case every attribute is the evaluation of a particular movie. Thus, each group of ratings is an object represented by what is called a term-frequency vector, this is every singular row in our User Item Matrix.\n",
    "\n",
    "<img src=\"images/cos.png\" alt=\"Figure 1\" style=\"width: 500px;\"/><p style=\"text-align:center;font-size: 11px;\">Cosine similarity</p>\n",
    "\n",
    "The cosine between two vectors (theta) can be also defined as the dot product divided by the module of them. Additionally, the resulting value will change according to the angle between them, as we can see from the picture when the angle is zero the two vectors are overlapping, thus they are really similar. However, when the angle is really open means the vectors are completely different from each other. When we compute the cosine of the angle it gives us values between 0 and 1. \n",
    "- As the values of cosine similarity gets closer to 1 (angle = 0°), the more similar the vectors.\n",
    "- As the values of cosine similarity gets closer to 0 (angle = 90°), the less similar the vectors.\n",
    "\n",
    "Considering this, we will create a function that iteratively will calculate the similarity from all the users present in the UIM matrix. Then, the function will return a list of the similar users and their respective cosine similarity, these similar users and similarities will be sorted by how similar they are to the studied user. \n",
    "\n",
    "We tested the function with the first user of our dataset, as we expected the greatest similarity is with himself. But also is similar with users 597, 366, 311 & 417."
   ]
  },
  {
   "cell_type": "code",
   "execution_count": 54,
   "metadata": {
    "ExecuteTime": {
     "end_time": "2020-10-14T20:14:10.385722Z",
     "start_time": "2020-10-14T20:14:08.120379Z"
    }
   },
   "outputs": [],
   "source": [
    "from sklearn.metrics.pairwise import cosine_similarity\n",
    "\n",
    "# Function for finding similar users\n",
    "# Receives:\n",
    "# - user: The ratings made by the user to study\n",
    "# - uim: The User Item Matrix with all other users to calculate similarity\n",
    "def findSimilarUsers(user, uim):\n",
    "    similarity = []\n",
    "    for i,row in enumerate(uim.values):\n",
    "        cos = cosine_similarity(user, row.reshape(1, -1))[0][0]\n",
    "        similarity.append([i, cos])\n",
    "    temp = pd.DataFrame(similarity, columns=['userId', 'similarity'])\n",
    "    temp = temp.sort_values(by=['similarity'], ascending=False).copy()\n",
    "    similar_users = list(temp['userId'].values)\n",
    "    similarities = list(temp['similarity'].values)\n",
    "\n",
    "    return (similar_users, similarities)"
   ]
  },
  {
   "cell_type": "code",
   "execution_count": 55,
   "metadata": {
    "ExecuteTime": {
     "end_time": "2020-10-14T20:14:10.736974Z",
     "start_time": "2020-10-14T20:14:10.389115Z"
    }
   },
   "outputs": [],
   "source": [
    "# Test user is created by selecting the first user of the UIM matrix\n",
    "user = uim.iloc[0].values.reshape(1, -1)\n",
    "temp = findSimilarUsers(user, uim)"
   ]
  },
  {
   "cell_type": "code",
   "execution_count": 56,
   "metadata": {
    "ExecuteTime": {
     "end_time": "2020-10-14T20:14:10.751927Z",
     "start_time": "2020-10-14T20:14:10.740914Z"
    }
   },
   "outputs": [
    {
     "data": {
      "text/plain": [
       "[0, 597, 366, 311, 467]"
      ]
     },
     "execution_count": 56,
     "metadata": {},
     "output_type": "execute_result"
    }
   ],
   "source": [
    "# The top 5 similar users are:\n",
    "temp[0][0:5]"
   ]
  },
  {
   "cell_type": "code",
   "execution_count": 57,
   "metadata": {
    "ExecuteTime": {
     "end_time": "2020-10-14T20:14:10.890918Z",
     "start_time": "2020-10-14T20:14:10.756904Z"
    }
   },
   "outputs": [
    {
     "data": {
      "text/plain": [
       "[0.9999999999999998,\n",
       " 0.4855035808289292,\n",
       " 0.4784148761010285,\n",
       " 0.4756257951946654,\n",
       " 0.4717509600003482]"
      ]
     },
     "execution_count": 57,
     "metadata": {},
     "output_type": "execute_result"
    }
   ],
   "source": [
    "# The cosine similarity obtained respectively for that users are:\n",
    "temp[1][0:5]"
   ]
  },
  {
   "cell_type": "markdown",
   "metadata": {
    "ExecuteTime": {
     "end_time": "2020-10-11T19:33:45.599229Z",
     "start_time": "2020-10-11T19:33:45.583212Z"
    }
   },
   "source": [
    "## 4. Recommendation System Implementation\n",
    "\n",
    "Now we have similar users to recommend movies but how can we select which movies to recommend? Well, for that problem we decided to create weight selection.\n",
    "\n",
    "After we know which users are similar to the studied user, we first verify what movies has the user seen and remove them from the evaluations of the similar users in order to avoid recommending movies that the studied user has already seen.\n",
    "\n",
    "<img src=\"images/imp1.png\" alt=\"Figure 1\" style=\"width: 800px;\"/><p style=\"text-align:center;font-size: 11px;\"><p style=\"text-align:center;font-size: 11px;\">Selecting unseen movies</p>   \n",
    "</br> \n",
    "\n",
    "From the remaining movies, we'll keep only those movies that similar users liked hence had given a high rate for the movies previously selected. Therefore, before doing this we need to define a value in order to select if a value will be removed or not, for the images presented a threshold of 4 was selected but for the actual project the defined threshold was 5. This will result in a matrix of movies that the studied user hasn't watched classified into the ones that probably would like (1) and the ones that would not (0).\n",
    "   \n",
    "<img src=\"images/imp2.png\" alt=\"Figure 1\" style=\"width: 400px;\"/><p style=\"text-align:center;font-size: 11px;\"><p style=\"text-align:center;font-size: 11px;\">Filtering movies according to the rating</p>\n",
    "\n",
    "<img src=\"images/imp3.png\" alt=\"Figure 1\" style=\"width: 400px;\"/><p style=\"text-align:center;font-size: 11px;\"><p style=\"text-align:center;font-size: 11px;\">Classified matrix</p>\n",
    "\n",
    "Next, we can use the calculated cosine similarity for every user as the weight of their recommendations, the possible movie recommendations (rows of the matrix) are multiplied by the cosine similarity values previously calculated, this value is different for every user.  \n",
    "<img src=\"images/imp4.png\" alt=\"Figure 1\" style=\"width: 600px;\"/><p style=\"text-align:center;font-size: 11px;\"><p style=\"text-align:center;font-size: 11px;\">Cosine similarity</p>\n",
    "\n",
    "<img src=\"images/imp5.png\" alt=\"Figure 1\" style=\"width: 600px;\"/><p style=\"text-align:center;font-size: 11px;\"><p style=\"text-align:center;font-size: 11px;\">Cosine similarity multiplied</p>\n",
    "\n",
    "Finally, the final score of recommendation for every movie is obtained by the sum of the the individual scores of every user for that movie (1.6 for the image above), in other words, since every column of the matrix represents a singular movie, the sum of values for that column gives us the final score. This way, we are taking into consideration how many times a movie is well rated by a similar user, if similar users have evaluated the same movie with high ratings it will result in a highly recommendable movie. The importance (weigth) that is given for the opinion of every user is given by the similarity to the studied user.\n",
    "\n",
    "**This is a simplification of the process for understanding purposes, the actual system implementation may change in some details. Nevertheless, the main idea is shown above.**"
   ]
  },
  {
   "cell_type": "code",
   "execution_count": 58,
   "metadata": {
    "ExecuteTime": {
     "end_time": "2020-10-14T20:14:11.020316Z",
     "start_time": "2020-10-14T20:14:10.894916Z"
    }
   },
   "outputs": [],
   "source": [
    "# Function that returns the most suitable recommendations of movies\n",
    "# Requires:\n",
    "# - user: The ratings made by the user to study\n",
    "# - uim: The User Item Matrix with all other users to calculate similarity\n",
    "# - recommendations: Number of expected recommendations\n",
    "# - analyzed_users: Number of similar users to analyze\n",
    "# - findSimilarUsers: Function that finds similar users from the dataset\n",
    "\n",
    "def findSimilarMovies(user, uim, recommendations=10, analyzed_users=10):\n",
    "    # Looking for movies that the user has already seen\n",
    "    seen = list(uim.columns[list((user>0)[0])])\n",
    "    \n",
    "    # Looking for similar users\n",
    "    similars = findSimilarUsers(user, uim)\n",
    "    \n",
    "    # The Dataframe of results is ceated\n",
    "    scores = pd.DataFrame(columns=['movieId', 'score'])\n",
    "    dtypes = np.dtype([\n",
    "          ('movieId', int),          \n",
    "          ('score', float),          \n",
    "          ])\n",
    "\n",
    "    # For the top similar users (analyzed users) the process gets repeated\n",
    "    for sim_user, sim_score in zip(similars[0][0:analyzed_users], similars[1][0:analyzed_users]):\n",
    "        # Dropping movies that the studied user has already seen\n",
    "        rec_movies = uim.iloc[sim_user].drop(seen)\n",
    "        # Dropping low rated movies\n",
    "        rec_index = list(rec_movies[rec_movies>4].index.values)        \n",
    "        \n",
    "        if (len(rec_index)>0):\n",
    "            # For every recommended movies of a particualar similar user:\n",
    "            for movie in rec_index:\n",
    "                # If the movie is not in the dataframe, it will add it to the dataframe\n",
    "                if (movie not in scores['movieId'].values):\n",
    "                    scores.loc[len(scores)] = (movie, 10*sim_score)\n",
    "                else: \n",
    "                # If the movies is already in the dataframe , it will increase its score\n",
    "                    scores.loc[scores['movieId']==movie, 'score'] += 10*sim_score\n",
    "        # The values are sorted by the score obtained\n",
    "        scores.sort_values(by='score', ascending=False, inplace=True)\n",
    "        \n",
    "        # There could the case that not enough users are similar\n",
    "        try:\n",
    "            scores = scores.head(recommendations)\n",
    "            scores['movieId'] = scores['movieId'].astype(int)\n",
    "        except:\n",
    "            scores['movieId'] = scores['movieId'].astype(int)\n",
    "    \n",
    "    # The movie id's and their corresponding scores are returned in lists\n",
    "    return (list(scores.movieId.values), list(scores.score.values))   "
   ]
  },
  {
   "cell_type": "code",
   "execution_count": 59,
   "metadata": {
    "ExecuteTime": {
     "end_time": "2020-10-14T20:14:11.956673Z",
     "start_time": "2020-10-14T20:14:11.026295Z"
    }
   },
   "outputs": [
    {
     "data": {
      "text/html": [
       "<div>\n",
       "<style scoped>\n",
       "    .dataframe tbody tr th:only-of-type {\n",
       "        vertical-align: middle;\n",
       "    }\n",
       "\n",
       "    .dataframe tbody tr th {\n",
       "        vertical-align: top;\n",
       "    }\n",
       "\n",
       "    .dataframe thead th {\n",
       "        text-align: right;\n",
       "    }\n",
       "</style>\n",
       "<table border=\"1\" class=\"dataframe\">\n",
       "  <thead>\n",
       "    <tr style=\"text-align: right;\">\n",
       "      <th></th>\n",
       "      <th>movieId</th>\n",
       "      <th>Score</th>\n",
       "    </tr>\n",
       "  </thead>\n",
       "  <tbody>\n",
       "    <tr>\n",
       "      <td>0</td>\n",
       "      <td>293</td>\n",
       "      <td>14.059126</td>\n",
       "    </tr>\n",
       "    <tr>\n",
       "      <td>1</td>\n",
       "      <td>4226</td>\n",
       "      <td>9.519094</td>\n",
       "    </tr>\n",
       "    <tr>\n",
       "      <td>2</td>\n",
       "      <td>4973</td>\n",
       "      <td>9.377341</td>\n",
       "    </tr>\n",
       "    <tr>\n",
       "      <td>3</td>\n",
       "      <td>112</td>\n",
       "      <td>4.855036</td>\n",
       "    </tr>\n",
       "    <tr>\n",
       "      <td>4</td>\n",
       "      <td>6874</td>\n",
       "      <td>4.855036</td>\n",
       "    </tr>\n",
       "    <tr>\n",
       "      <td>5</td>\n",
       "      <td>6711</td>\n",
       "      <td>4.855036</td>\n",
       "    </tr>\n",
       "    <tr>\n",
       "      <td>6</td>\n",
       "      <td>5669</td>\n",
       "      <td>4.855036</td>\n",
       "    </tr>\n",
       "    <tr>\n",
       "      <td>7</td>\n",
       "      <td>4848</td>\n",
       "      <td>4.855036</td>\n",
       "    </tr>\n",
       "    <tr>\n",
       "      <td>8</td>\n",
       "      <td>3949</td>\n",
       "      <td>4.855036</td>\n",
       "    </tr>\n",
       "    <tr>\n",
       "      <td>9</td>\n",
       "      <td>52973</td>\n",
       "      <td>4.522305</td>\n",
       "    </tr>\n",
       "  </tbody>\n",
       "</table>\n",
       "</div>"
      ],
      "text/plain": [
       "   movieId      Score\n",
       "0      293  14.059126\n",
       "1     4226   9.519094\n",
       "2     4973   9.377341\n",
       "3      112   4.855036\n",
       "4     6874   4.855036\n",
       "5     6711   4.855036\n",
       "6     5669   4.855036\n",
       "7     4848   4.855036\n",
       "8     3949   4.855036\n",
       "9    52973   4.522305"
      ]
     },
     "execution_count": 59,
     "metadata": {},
     "output_type": "execute_result"
    }
   ],
   "source": [
    "# movie Id and Score obtained for that recommendation\n",
    "ids, scores = findSimilarMovies(user, uim)    \n",
    "pd.DataFrame({'movieId': ids, 'Score': scores})"
   ]
  },
  {
   "cell_type": "code",
   "execution_count": 60,
   "metadata": {
    "ExecuteTime": {
     "end_time": "2020-10-14T20:14:11.985636Z",
     "start_time": "2020-10-14T20:14:11.961651Z"
    }
   },
   "outputs": [
    {
     "data": {
      "text/html": [
       "<div>\n",
       "<style scoped>\n",
       "    .dataframe tbody tr th:only-of-type {\n",
       "        vertical-align: middle;\n",
       "    }\n",
       "\n",
       "    .dataframe tbody tr th {\n",
       "        vertical-align: top;\n",
       "    }\n",
       "\n",
       "    .dataframe thead th {\n",
       "        text-align: right;\n",
       "    }\n",
       "</style>\n",
       "<table border=\"1\" class=\"dataframe\">\n",
       "  <thead>\n",
       "    <tr style=\"text-align: right;\">\n",
       "      <th></th>\n",
       "      <th>movieId</th>\n",
       "      <th>title</th>\n",
       "      <th>genres</th>\n",
       "      <th>year</th>\n",
       "    </tr>\n",
       "  </thead>\n",
       "  <tbody>\n",
       "    <tr>\n",
       "      <td>99</td>\n",
       "      <td>112</td>\n",
       "      <td>Rumble in the Bronx (Hont faan kui) (1995)</td>\n",
       "      <td>Action|Adventure|Comedy|Crime</td>\n",
       "      <td>1995</td>\n",
       "    </tr>\n",
       "    <tr>\n",
       "      <td>254</td>\n",
       "      <td>293</td>\n",
       "      <td>Léon: The Professional (a.k.a. The Professiona...</td>\n",
       "      <td>Action|Crime|Drama|Thriller</td>\n",
       "      <td>1994</td>\n",
       "    </tr>\n",
       "    <tr>\n",
       "      <td>2945</td>\n",
       "      <td>3949</td>\n",
       "      <td>Requiem for a Dream (2000)</td>\n",
       "      <td>Drama</td>\n",
       "      <td>2000</td>\n",
       "    </tr>\n",
       "    <tr>\n",
       "      <td>3141</td>\n",
       "      <td>4226</td>\n",
       "      <td>Memento (2000)</td>\n",
       "      <td>Mystery|Thriller</td>\n",
       "      <td>2000</td>\n",
       "    </tr>\n",
       "    <tr>\n",
       "      <td>3544</td>\n",
       "      <td>4848</td>\n",
       "      <td>Mulholland Drive (2001)</td>\n",
       "      <td>Crime|Drama|Film-Noir|Mystery|Thriller</td>\n",
       "      <td>2001</td>\n",
       "    </tr>\n",
       "    <tr>\n",
       "      <td>3622</td>\n",
       "      <td>4973</td>\n",
       "      <td>Amelie (Fabuleux destin d'Amélie Poulain, Le) ...</td>\n",
       "      <td>Comedy|Romance</td>\n",
       "      <td>2001</td>\n",
       "    </tr>\n",
       "    <tr>\n",
       "      <td>4012</td>\n",
       "      <td>5669</td>\n",
       "      <td>Bowling for Columbine (2002)</td>\n",
       "      <td>Documentary</td>\n",
       "      <td>2002</td>\n",
       "    </tr>\n",
       "    <tr>\n",
       "      <td>4529</td>\n",
       "      <td>6711</td>\n",
       "      <td>Lost in Translation (2003)</td>\n",
       "      <td>Comedy|Drama|Romance</td>\n",
       "      <td>2003</td>\n",
       "    </tr>\n",
       "    <tr>\n",
       "      <td>4615</td>\n",
       "      <td>6874</td>\n",
       "      <td>Kill Bill: Vol. 1 (2003)</td>\n",
       "      <td>Action|Crime|Thriller</td>\n",
       "      <td>2003</td>\n",
       "    </tr>\n",
       "    <tr>\n",
       "      <td>6481</td>\n",
       "      <td>52973</td>\n",
       "      <td>Knocked Up (2007)</td>\n",
       "      <td>Comedy|Drama|Romance</td>\n",
       "      <td>2007</td>\n",
       "    </tr>\n",
       "  </tbody>\n",
       "</table>\n",
       "</div>"
      ],
      "text/plain": [
       "      movieId                                              title  \\\n",
       "99        112         Rumble in the Bronx (Hont faan kui) (1995)   \n",
       "254       293  Léon: The Professional (a.k.a. The Professiona...   \n",
       "2945     3949                         Requiem for a Dream (2000)   \n",
       "3141     4226                                     Memento (2000)   \n",
       "3544     4848                            Mulholland Drive (2001)   \n",
       "3622     4973  Amelie (Fabuleux destin d'Amélie Poulain, Le) ...   \n",
       "4012     5669                       Bowling for Columbine (2002)   \n",
       "4529     6711                         Lost in Translation (2003)   \n",
       "4615     6874                           Kill Bill: Vol. 1 (2003)   \n",
       "6481    52973                                  Knocked Up (2007)   \n",
       "\n",
       "                                      genres  year  \n",
       "99             Action|Adventure|Comedy|Crime  1995  \n",
       "254              Action|Crime|Drama|Thriller  1994  \n",
       "2945                                   Drama  2000  \n",
       "3141                        Mystery|Thriller  2000  \n",
       "3544  Crime|Drama|Film-Noir|Mystery|Thriller  2001  \n",
       "3622                          Comedy|Romance  2001  \n",
       "4012                             Documentary  2002  \n",
       "4529                    Comedy|Drama|Romance  2003  \n",
       "4615                   Action|Crime|Thriller  2003  \n",
       "6481                    Comedy|Drama|Romance  2007  "
      ]
     },
     "execution_count": 60,
     "metadata": {},
     "output_type": "execute_result"
    }
   ],
   "source": [
    "# Looking for what movies belong to those movie ids\n",
    "movies[movies['movieId'].isin(ids)]"
   ]
  },
  {
   "cell_type": "markdown",
   "metadata": {},
   "source": [
    "## 5. Final Evaluation\n",
    "\n",
    "Finally we've got a movie recommendation system, now we can make predictions of possible recommendations but we still we don't know if the predictions are made correctly. It's hard to really evaluate whether the system is predicting the right movies or not. The best way to evaluate is to make predictions with real users and see of the movies are correctly predicted, or split the data reducing the UIM matrix, cutting some movies the users has liked. A simpler way is by random gender selection, since the movies predicted are not content based, the prediction system never considers the gender of the movie (ratings dataset), so if we create a user that only likes movies that belong to the same genre, we estimate that the predictions made belong to that genre too.\n",
    "\n",
    "<img src=\"images/recom.jpg\" alt=\"Figure 1\" style=\"width: 500px;\"/><p style=\"text-align:center;font-size: 11px;\">Recommendation system</p>\n",
    "\n",
    "For this part of the project we'll make this prediction for two genres:\n",
    "- Comedy movies\n",
    "- Horror movies\n",
    "For the creation of the movies, 10 random movies were selected that contain the genre \"Comedy\"/\"Horror\" in the movie genre description. Another important fact, is that as the user rates more movies, the higher the recommendation score could be, this is, as the user evaluates more movies the system creates better recommendations, for the cases presented we've only used 10 ratings.\n",
    "As we expected, the general view states that most of the movies belong to the same genre the user liked or related. Nevertheless, there are some different genres in the recommendations this is because some movies don't have a unique genre, there are some movies that ave multiple genres. But, in a general way, we can see that for most of the predictions, the recommendations are related and are from the same kind.\n"
   ]
  },
  {
   "cell_type": "markdown",
   "metadata": {},
   "source": [
    "### 5.1 User that only likes comedy movies"
   ]
  },
  {
   "cell_type": "code",
   "execution_count": 82,
   "metadata": {
    "ExecuteTime": {
     "end_time": "2020-10-14T20:15:38.546135Z",
     "start_time": "2020-10-14T20:15:38.520151Z"
    }
   },
   "outputs": [
    {
     "data": {
      "text/html": [
       "<div>\n",
       "<style scoped>\n",
       "    .dataframe tbody tr th:only-of-type {\n",
       "        vertical-align: middle;\n",
       "    }\n",
       "\n",
       "    .dataframe tbody tr th {\n",
       "        vertical-align: top;\n",
       "    }\n",
       "\n",
       "    .dataframe thead th {\n",
       "        text-align: right;\n",
       "    }\n",
       "</style>\n",
       "<table border=\"1\" class=\"dataframe\">\n",
       "  <thead>\n",
       "    <tr style=\"text-align: right;\">\n",
       "      <th></th>\n",
       "      <th>movieId</th>\n",
       "      <th>title</th>\n",
       "      <th>genres</th>\n",
       "      <th>year</th>\n",
       "    </tr>\n",
       "  </thead>\n",
       "  <tbody>\n",
       "    <tr>\n",
       "      <td>99</td>\n",
       "      <td>112</td>\n",
       "      <td>Rumble in the Bronx (Hont faan kui) (1995)</td>\n",
       "      <td>Action|Adventure|Comedy|Crime</td>\n",
       "      <td>1995</td>\n",
       "    </tr>\n",
       "    <tr>\n",
       "      <td>1727</td>\n",
       "      <td>2321</td>\n",
       "      <td>Pleasantville (1998)</td>\n",
       "      <td>Comedy|Drama|Fantasy</td>\n",
       "      <td>1998</td>\n",
       "    </tr>\n",
       "    <tr>\n",
       "      <td>1603</td>\n",
       "      <td>2145</td>\n",
       "      <td>Pretty in Pink (1986)</td>\n",
       "      <td>Comedy|Drama|Romance</td>\n",
       "      <td>1986</td>\n",
       "    </tr>\n",
       "    <tr>\n",
       "      <td>820</td>\n",
       "      <td>1080</td>\n",
       "      <td>Monty Python's Life of Brian (1979)</td>\n",
       "      <td>Comedy</td>\n",
       "      <td>1979</td>\n",
       "    </tr>\n",
       "    <tr>\n",
       "      <td>3568</td>\n",
       "      <td>4886</td>\n",
       "      <td>Monsters, Inc. (2001)</td>\n",
       "      <td>Adventure|Animation|Children|Comedy|Fantasy</td>\n",
       "      <td>2001</td>\n",
       "    </tr>\n",
       "    <tr>\n",
       "      <td>8636</td>\n",
       "      <td>119145</td>\n",
       "      <td>Kingsman: The Secret Service (2015)</td>\n",
       "      <td>Action|Adventure|Comedy|Crime</td>\n",
       "      <td>2015</td>\n",
       "    </tr>\n",
       "    <tr>\n",
       "      <td>383</td>\n",
       "      <td>440</td>\n",
       "      <td>Dave (1993)</td>\n",
       "      <td>Comedy|Romance</td>\n",
       "      <td>1993</td>\n",
       "    </tr>\n",
       "    <tr>\n",
       "      <td>6016</td>\n",
       "      <td>38061</td>\n",
       "      <td>Kiss Kiss Bang Bang (2005)</td>\n",
       "      <td>Comedy|Crime|Mystery|Thriller</td>\n",
       "      <td>2005</td>\n",
       "    </tr>\n",
       "    <tr>\n",
       "      <td>1005</td>\n",
       "      <td>1307</td>\n",
       "      <td>When Harry Met Sally... (1989)</td>\n",
       "      <td>Comedy|Romance</td>\n",
       "      <td>1989</td>\n",
       "    </tr>\n",
       "    <tr>\n",
       "      <td>5938</td>\n",
       "      <td>34162</td>\n",
       "      <td>Wedding Crashers (2005)</td>\n",
       "      <td>Comedy|Romance</td>\n",
       "      <td>2005</td>\n",
       "    </tr>\n",
       "  </tbody>\n",
       "</table>\n",
       "</div>"
      ],
      "text/plain": [
       "      movieId                                       title  \\\n",
       "99        112  Rumble in the Bronx (Hont faan kui) (1995)   \n",
       "1727     2321                        Pleasantville (1998)   \n",
       "1603     2145                       Pretty in Pink (1986)   \n",
       "820      1080         Monty Python's Life of Brian (1979)   \n",
       "3568     4886                       Monsters, Inc. (2001)   \n",
       "8636   119145         Kingsman: The Secret Service (2015)   \n",
       "383       440                                 Dave (1993)   \n",
       "6016    38061                  Kiss Kiss Bang Bang (2005)   \n",
       "1005     1307              When Harry Met Sally... (1989)   \n",
       "5938    34162                     Wedding Crashers (2005)   \n",
       "\n",
       "                                           genres  year  \n",
       "99                  Action|Adventure|Comedy|Crime  1995  \n",
       "1727                         Comedy|Drama|Fantasy  1998  \n",
       "1603                         Comedy|Drama|Romance  1986  \n",
       "820                                        Comedy  1979  \n",
       "3568  Adventure|Animation|Children|Comedy|Fantasy  2001  \n",
       "8636                Action|Adventure|Comedy|Crime  2015  \n",
       "383                                Comedy|Romance  1993  \n",
       "6016                Comedy|Crime|Mystery|Thriller  2005  \n",
       "1005                               Comedy|Romance  1989  \n",
       "5938                               Comedy|Romance  2005  "
      ]
     },
     "execution_count": 82,
     "metadata": {},
     "output_type": "execute_result"
    }
   ],
   "source": [
    "comedy_movies = movies[movies['genres'].str.contains('Comedy', regex=False)].copy()\n",
    "comedy_movies = comedy_movies.sample(10).copy()\n",
    "comedy_movies"
   ]
  },
  {
   "cell_type": "code",
   "execution_count": 83,
   "metadata": {
    "ExecuteTime": {
     "end_time": "2020-10-14T20:15:39.168850Z",
     "start_time": "2020-10-14T20:15:39.142846Z"
    },
    "scrolled": true
   },
   "outputs": [],
   "source": [
    "user1 = []\n",
    "for col in uim.columns:   \n",
    "    user1.append(5) if (col in list(comedy_movies['movieId'].values))  else user1.append(0)      \n",
    "user1 = np.array(user1).reshape(1,-1)"
   ]
  },
  {
   "cell_type": "code",
   "execution_count": 84,
   "metadata": {
    "ExecuteTime": {
     "end_time": "2020-10-14T20:15:39.720454Z",
     "start_time": "2020-10-14T20:15:39.710461Z"
    }
   },
   "outputs": [
    {
     "name": "stdout",
     "output_type": "stream",
     "text": [
      "User 1 has 10 rated movies and 850 unseen movies\n"
     ]
    }
   ],
   "source": [
    "print ('User 1 has {} rated movies and {} unseen movies'.format(len(user1[user1==5]), len(user1[user1==0])))"
   ]
  },
  {
   "cell_type": "code",
   "execution_count": 85,
   "metadata": {
    "ExecuteTime": {
     "end_time": "2020-10-14T20:15:41.532987Z",
     "start_time": "2020-10-14T20:15:40.250168Z"
    }
   },
   "outputs": [
    {
     "data": {
      "text/html": [
       "<div>\n",
       "<style scoped>\n",
       "    .dataframe tbody tr th:only-of-type {\n",
       "        vertical-align: middle;\n",
       "    }\n",
       "\n",
       "    .dataframe tbody tr th {\n",
       "        vertical-align: top;\n",
       "    }\n",
       "\n",
       "    .dataframe thead th {\n",
       "        text-align: right;\n",
       "    }\n",
       "</style>\n",
       "<table border=\"1\" class=\"dataframe\">\n",
       "  <thead>\n",
       "    <tr style=\"text-align: right;\">\n",
       "      <th></th>\n",
       "      <th>movieId</th>\n",
       "      <th>Score</th>\n",
       "      <th>title</th>\n",
       "      <th>genres</th>\n",
       "      <th>year</th>\n",
       "    </tr>\n",
       "  </thead>\n",
       "  <tbody>\n",
       "    <tr>\n",
       "      <td>0</td>\n",
       "      <td>1</td>\n",
       "      <td>5.089188</td>\n",
       "      <td>Toy Story (1995)</td>\n",
       "      <td>Adventure|Animation|Children|Comedy|Fantasy</td>\n",
       "      <td>1995</td>\n",
       "    </tr>\n",
       "    <tr>\n",
       "      <td>1</td>\n",
       "      <td>356</td>\n",
       "      <td>3.815754</td>\n",
       "      <td>Forrest Gump (1994)</td>\n",
       "      <td>Comedy|Drama|Romance|War</td>\n",
       "      <td>1994</td>\n",
       "    </tr>\n",
       "    <tr>\n",
       "      <td>2</td>\n",
       "      <td>6942</td>\n",
       "      <td>2.687132</td>\n",
       "      <td>Love Actually (2003)</td>\n",
       "      <td>Comedy|Drama|Romance</td>\n",
       "      <td>2003</td>\n",
       "    </tr>\n",
       "    <tr>\n",
       "      <td>3</td>\n",
       "      <td>7451</td>\n",
       "      <td>2.687132</td>\n",
       "      <td>Mean Girls (2004)</td>\n",
       "      <td>Comedy</td>\n",
       "      <td>2004</td>\n",
       "    </tr>\n",
       "    <tr>\n",
       "      <td>4</td>\n",
       "      <td>1215</td>\n",
       "      <td>2.652919</td>\n",
       "      <td>Army of Darkness (1993)</td>\n",
       "      <td>Action|Adventure|Comedy|Fantasy|Horror</td>\n",
       "      <td>1993</td>\n",
       "    </tr>\n",
       "    <tr>\n",
       "      <td>5</td>\n",
       "      <td>8641</td>\n",
       "      <td>2.652000</td>\n",
       "      <td>Anchorman: The Legend of Ron Burgundy (2004)</td>\n",
       "      <td>Comedy</td>\n",
       "      <td>2004</td>\n",
       "    </tr>\n",
       "    <tr>\n",
       "      <td>6</td>\n",
       "      <td>6188</td>\n",
       "      <td>2.652000</td>\n",
       "      <td>Old School (2003)</td>\n",
       "      <td>Comedy</td>\n",
       "      <td>2003</td>\n",
       "    </tr>\n",
       "    <tr>\n",
       "      <td>7</td>\n",
       "      <td>88163</td>\n",
       "      <td>1.525983</td>\n",
       "      <td>Crazy, Stupid, Love. (2011)</td>\n",
       "      <td>Comedy|Drama|Romance</td>\n",
       "      <td>2011</td>\n",
       "    </tr>\n",
       "    <tr>\n",
       "      <td>8</td>\n",
       "      <td>1265</td>\n",
       "      <td>1.525983</td>\n",
       "      <td>Groundhog Day (1993)</td>\n",
       "      <td>Comedy|Fantasy|Romance</td>\n",
       "      <td>1993</td>\n",
       "    </tr>\n",
       "    <tr>\n",
       "      <td>9</td>\n",
       "      <td>1258</td>\n",
       "      <td>1.503717</td>\n",
       "      <td>Shining, The (1980)</td>\n",
       "      <td>Horror</td>\n",
       "      <td>1980</td>\n",
       "    </tr>\n",
       "  </tbody>\n",
       "</table>\n",
       "</div>"
      ],
      "text/plain": [
       "   movieId     Score                                         title  \\\n",
       "0        1  5.089188                              Toy Story (1995)   \n",
       "1      356  3.815754                           Forrest Gump (1994)   \n",
       "2     6942  2.687132                          Love Actually (2003)   \n",
       "3     7451  2.687132                             Mean Girls (2004)   \n",
       "4     1215  2.652919                       Army of Darkness (1993)   \n",
       "5     8641  2.652000  Anchorman: The Legend of Ron Burgundy (2004)   \n",
       "6     6188  2.652000                             Old School (2003)   \n",
       "7    88163  1.525983                   Crazy, Stupid, Love. (2011)   \n",
       "8     1265  1.525983                          Groundhog Day (1993)   \n",
       "9     1258  1.503717                           Shining, The (1980)   \n",
       "\n",
       "                                        genres  year  \n",
       "0  Adventure|Animation|Children|Comedy|Fantasy  1995  \n",
       "1                     Comedy|Drama|Romance|War  1994  \n",
       "2                         Comedy|Drama|Romance  2003  \n",
       "3                                       Comedy  2004  \n",
       "4       Action|Adventure|Comedy|Fantasy|Horror  1993  \n",
       "5                                       Comedy  2004  \n",
       "6                                       Comedy  2003  \n",
       "7                         Comedy|Drama|Romance  2011  \n",
       "8                       Comedy|Fantasy|Romance  1993  \n",
       "9                                       Horror  1980  "
      ]
     },
     "execution_count": 85,
     "metadata": {},
     "output_type": "execute_result"
    }
   ],
   "source": [
    "ids, scores = findSimilarMovies(user1, uim)  \n",
    "sc = pd.DataFrame({'movieId': ids, 'Score': scores}).copy()\n",
    "recs = movies[movies['movieId'].isin(ids)].copy()\n",
    "pd.merge(sc, recs).sort_values('Score', ascending=False)"
   ]
  },
  {
   "cell_type": "markdown",
   "metadata": {},
   "source": [
    "### 5.2 User that only like horror movies"
   ]
  },
  {
   "cell_type": "code",
   "execution_count": 265,
   "metadata": {
    "ExecuteTime": {
     "end_time": "2020-10-13T17:53:55.740936Z",
     "start_time": "2020-10-13T17:53:55.724926Z"
    }
   },
   "outputs": [
    {
     "data": {
      "text/html": [
       "<div>\n",
       "<style scoped>\n",
       "    .dataframe tbody tr th:only-of-type {\n",
       "        vertical-align: middle;\n",
       "    }\n",
       "\n",
       "    .dataframe tbody tr th {\n",
       "        vertical-align: top;\n",
       "    }\n",
       "\n",
       "    .dataframe thead th {\n",
       "        text-align: right;\n",
       "    }\n",
       "</style>\n",
       "<table border=\"1\" class=\"dataframe\">\n",
       "  <thead>\n",
       "    <tr style=\"text-align: right;\">\n",
       "      <th></th>\n",
       "      <th>movieId</th>\n",
       "      <th>title</th>\n",
       "      <th>genres</th>\n",
       "      <th>year</th>\n",
       "    </tr>\n",
       "  </thead>\n",
       "  <tbody>\n",
       "    <tr>\n",
       "      <td>2078</td>\n",
       "      <td>2762</td>\n",
       "      <td>Sixth Sense, The (1999)</td>\n",
       "      <td>Drama|Horror|Mystery</td>\n",
       "      <td>1999.0</td>\n",
       "    </tr>\n",
       "    <tr>\n",
       "      <td>6630</td>\n",
       "      <td>56174</td>\n",
       "      <td>I Am Legend (2007)</td>\n",
       "      <td>Action|Horror|Sci-Fi|Thriller|IMAX</td>\n",
       "      <td>2007.0</td>\n",
       "    </tr>\n",
       "    <tr>\n",
       "      <td>2641</td>\n",
       "      <td>3535</td>\n",
       "      <td>American Psycho (2000)</td>\n",
       "      <td>Crime|Horror|Mystery|Thriller</td>\n",
       "      <td>2000.0</td>\n",
       "    </tr>\n",
       "    <tr>\n",
       "      <td>920</td>\n",
       "      <td>1219</td>\n",
       "      <td>Psycho (1960)</td>\n",
       "      <td>Crime|Horror</td>\n",
       "      <td>1960.0</td>\n",
       "    </tr>\n",
       "    <tr>\n",
       "      <td>5335</td>\n",
       "      <td>8874</td>\n",
       "      <td>Shaun of the Dead (2004)</td>\n",
       "      <td>Comedy|Horror</td>\n",
       "      <td>2004.0</td>\n",
       "    </tr>\n",
       "    <tr>\n",
       "      <td>1997</td>\n",
       "      <td>2657</td>\n",
       "      <td>Rocky Horror Picture Show, The (1975)</td>\n",
       "      <td>Comedy|Horror|Musical|Sci-Fi</td>\n",
       "      <td>1975.0</td>\n",
       "    </tr>\n",
       "    <tr>\n",
       "      <td>915</td>\n",
       "      <td>1214</td>\n",
       "      <td>Alien (1979)</td>\n",
       "      <td>Horror|Sci-Fi</td>\n",
       "      <td>1979.0</td>\n",
       "    </tr>\n",
       "    <tr>\n",
       "      <td>1083</td>\n",
       "      <td>1407</td>\n",
       "      <td>Scream (1996)</td>\n",
       "      <td>Comedy|Horror|Mystery|Thriller</td>\n",
       "      <td>1996.0</td>\n",
       "    </tr>\n",
       "    <tr>\n",
       "      <td>957</td>\n",
       "      <td>1258</td>\n",
       "      <td>Shining, The (1980)</td>\n",
       "      <td>Horror</td>\n",
       "      <td>1980.0</td>\n",
       "    </tr>\n",
       "    <tr>\n",
       "      <td>2027</td>\n",
       "      <td>2699</td>\n",
       "      <td>Arachnophobia (1990)</td>\n",
       "      <td>Comedy|Horror</td>\n",
       "      <td>1990.0</td>\n",
       "    </tr>\n",
       "  </tbody>\n",
       "</table>\n",
       "</div>"
      ],
      "text/plain": [
       "      movieId                                  title  \\\n",
       "2078     2762                Sixth Sense, The (1999)   \n",
       "6630    56174                     I Am Legend (2007)   \n",
       "2641     3535                 American Psycho (2000)   \n",
       "920      1219                          Psycho (1960)   \n",
       "5335     8874               Shaun of the Dead (2004)   \n",
       "1997     2657  Rocky Horror Picture Show, The (1975)   \n",
       "915      1214                           Alien (1979)   \n",
       "1083     1407                          Scream (1996)   \n",
       "957      1258                    Shining, The (1980)   \n",
       "2027     2699                   Arachnophobia (1990)   \n",
       "\n",
       "                                  genres    year  \n",
       "2078                Drama|Horror|Mystery  1999.0  \n",
       "6630  Action|Horror|Sci-Fi|Thriller|IMAX  2007.0  \n",
       "2641       Crime|Horror|Mystery|Thriller  2000.0  \n",
       "920                         Crime|Horror  1960.0  \n",
       "5335                       Comedy|Horror  2004.0  \n",
       "1997        Comedy|Horror|Musical|Sci-Fi  1975.0  \n",
       "915                        Horror|Sci-Fi  1979.0  \n",
       "1083      Comedy|Horror|Mystery|Thriller  1996.0  \n",
       "957                               Horror  1980.0  \n",
       "2027                       Comedy|Horror  1990.0  "
      ]
     },
     "execution_count": 265,
     "metadata": {},
     "output_type": "execute_result"
    }
   ],
   "source": [
    "horror_movies = movies[movies['genres'].str.contains('Horror', regex=False)].copy()\n",
    "horror_movies = horror_movies.sample(10).copy()\n",
    "horror_movies"
   ]
  },
  {
   "cell_type": "code",
   "execution_count": 266,
   "metadata": {
    "ExecuteTime": {
     "end_time": "2020-10-13T17:53:56.232635Z",
     "start_time": "2020-10-13T17:53:56.214644Z"
    }
   },
   "outputs": [],
   "source": [
    "user2 = []\n",
    "for col in uim.columns:   \n",
    "    user2.append(5) if (col in list(horror_movies['movieId'].values))  else user2.append(0)      \n",
    "user2 = np.array(user2).reshape(1,-1)"
   ]
  },
  {
   "cell_type": "code",
   "execution_count": 267,
   "metadata": {
    "ExecuteTime": {
     "end_time": "2020-10-13T17:53:56.623419Z",
     "start_time": "2020-10-13T17:53:56.616423Z"
    }
   },
   "outputs": [
    {
     "name": "stdout",
     "output_type": "stream",
     "text": [
      "User 2 has 10 rated movies and 426 unseen movies\n"
     ]
    }
   ],
   "source": [
    "print ('User 2 has {} rated movies and {} unseen movies'.format(len(user2[user2==5]), len(user2[user2==0])))"
   ]
  },
  {
   "cell_type": "code",
   "execution_count": 268,
   "metadata": {
    "ExecuteTime": {
     "end_time": "2020-10-13T17:53:58.399706Z",
     "start_time": "2020-10-13T17:53:56.997823Z"
    }
   },
   "outputs": [
    {
     "data": {
      "text/html": [
       "<div>\n",
       "<style scoped>\n",
       "    .dataframe tbody tr th:only-of-type {\n",
       "        vertical-align: middle;\n",
       "    }\n",
       "\n",
       "    .dataframe tbody tr th {\n",
       "        vertical-align: top;\n",
       "    }\n",
       "\n",
       "    .dataframe thead th {\n",
       "        text-align: right;\n",
       "    }\n",
       "</style>\n",
       "<table border=\"1\" class=\"dataframe\">\n",
       "  <thead>\n",
       "    <tr style=\"text-align: right;\">\n",
       "      <th></th>\n",
       "      <th>movieId</th>\n",
       "      <th>Score</th>\n",
       "      <th>title</th>\n",
       "      <th>genres</th>\n",
       "      <th>year</th>\n",
       "    </tr>\n",
       "  </thead>\n",
       "  <tbody>\n",
       "    <tr>\n",
       "      <td>0</td>\n",
       "      <td>1387</td>\n",
       "      <td>9.695435</td>\n",
       "      <td>Jaws (1975)</td>\n",
       "      <td>Action|Horror</td>\n",
       "      <td>1975.0</td>\n",
       "    </tr>\n",
       "    <tr>\n",
       "      <td>1</td>\n",
       "      <td>253</td>\n",
       "      <td>9.543883</td>\n",
       "      <td>Interview with the Vampire: The Vampire Chroni...</td>\n",
       "      <td>Drama|Horror</td>\n",
       "      <td>1994.0</td>\n",
       "    </tr>\n",
       "    <tr>\n",
       "      <td>2</td>\n",
       "      <td>1215</td>\n",
       "      <td>7.747767</td>\n",
       "      <td>Army of Darkness (1993)</td>\n",
       "      <td>Action|Adventure|Comedy|Fantasy|Horror</td>\n",
       "      <td>1993.0</td>\n",
       "    </tr>\n",
       "    <tr>\n",
       "      <td>3</td>\n",
       "      <td>1997</td>\n",
       "      <td>5.851641</td>\n",
       "      <td>Exorcist, The (1973)</td>\n",
       "      <td>Horror|Mystery</td>\n",
       "      <td>1973.0</td>\n",
       "    </tr>\n",
       "    <tr>\n",
       "      <td>4</td>\n",
       "      <td>5952</td>\n",
       "      <td>3.922561</td>\n",
       "      <td>Lord of the Rings: The Two Towers, The (2002)</td>\n",
       "      <td>Adventure|Fantasy</td>\n",
       "      <td>2002.0</td>\n",
       "    </tr>\n",
       "    <tr>\n",
       "      <td>5</td>\n",
       "      <td>1252</td>\n",
       "      <td>3.900174</td>\n",
       "      <td>Chinatown (1974)</td>\n",
       "      <td>Crime|Film-Noir|Mystery|Thriller</td>\n",
       "      <td>1974.0</td>\n",
       "    </tr>\n",
       "    <tr>\n",
       "      <td>6</td>\n",
       "      <td>1222</td>\n",
       "      <td>3.891607</td>\n",
       "      <td>Full Metal Jacket (1987)</td>\n",
       "      <td>Drama|War</td>\n",
       "      <td>1987.0</td>\n",
       "    </tr>\n",
       "    <tr>\n",
       "      <td>7</td>\n",
       "      <td>778</td>\n",
       "      <td>2.219149</td>\n",
       "      <td>Trainspotting (1996)</td>\n",
       "      <td>Comedy|Crime|Drama</td>\n",
       "      <td>1996.0</td>\n",
       "    </tr>\n",
       "    <tr>\n",
       "      <td>8</td>\n",
       "      <td>3471</td>\n",
       "      <td>2.028370</td>\n",
       "      <td>Close Encounters of the Third Kind (1977)</td>\n",
       "      <td>Adventure|Drama|Sci-Fi</td>\n",
       "      <td>1977.0</td>\n",
       "    </tr>\n",
       "    <tr>\n",
       "      <td>9</td>\n",
       "      <td>79132</td>\n",
       "      <td>1.863237</td>\n",
       "      <td>Inception (2010)</td>\n",
       "      <td>Action|Crime|Drama|Mystery|Sci-Fi|Thriller|IMAX</td>\n",
       "      <td>2010.0</td>\n",
       "    </tr>\n",
       "  </tbody>\n",
       "</table>\n",
       "</div>"
      ],
      "text/plain": [
       "   movieId     Score                                              title  \\\n",
       "0     1387  9.695435                                        Jaws (1975)   \n",
       "1      253  9.543883  Interview with the Vampire: The Vampire Chroni...   \n",
       "2     1215  7.747767                            Army of Darkness (1993)   \n",
       "3     1997  5.851641                               Exorcist, The (1973)   \n",
       "4     5952  3.922561      Lord of the Rings: The Two Towers, The (2002)   \n",
       "5     1252  3.900174                                   Chinatown (1974)   \n",
       "6     1222  3.891607                           Full Metal Jacket (1987)   \n",
       "7      778  2.219149                               Trainspotting (1996)   \n",
       "8     3471  2.028370          Close Encounters of the Third Kind (1977)   \n",
       "9    79132  1.863237                                   Inception (2010)   \n",
       "\n",
       "                                            genres    year  \n",
       "0                                    Action|Horror  1975.0  \n",
       "1                                     Drama|Horror  1994.0  \n",
       "2           Action|Adventure|Comedy|Fantasy|Horror  1993.0  \n",
       "3                                   Horror|Mystery  1973.0  \n",
       "4                                Adventure|Fantasy  2002.0  \n",
       "5                 Crime|Film-Noir|Mystery|Thriller  1974.0  \n",
       "6                                        Drama|War  1987.0  \n",
       "7                               Comedy|Crime|Drama  1996.0  \n",
       "8                           Adventure|Drama|Sci-Fi  1977.0  \n",
       "9  Action|Crime|Drama|Mystery|Sci-Fi|Thriller|IMAX  2010.0  "
      ]
     },
     "execution_count": 268,
     "metadata": {},
     "output_type": "execute_result"
    }
   ],
   "source": [
    "ids, scores = findSimilarMovies(user2, uim)  \n",
    "sc = pd.DataFrame({'movieId': ids, 'Score': scores}).copy()\n",
    "recs = movies[movies['movieId'].isin(ids)].copy()\n",
    "pd.merge(sc, recs).sort_values('Score', ascending=False)"
   ]
  }
 ],
 "metadata": {
  "kernelspec": {
   "display_name": "Python 3",
   "language": "python",
   "name": "python3"
  },
  "language_info": {
   "codemirror_mode": {
    "name": "ipython",
    "version": 3
   },
   "file_extension": ".py",
   "mimetype": "text/x-python",
   "name": "python",
   "nbconvert_exporter": "python",
   "pygments_lexer": "ipython3",
   "version": "3.7.4"
  },
  "varInspector": {
   "cols": {
    "lenName": 16,
    "lenType": 16,
    "lenVar": 40
   },
   "kernels_config": {
    "python": {
     "delete_cmd_postfix": "",
     "delete_cmd_prefix": "del ",
     "library": "var_list.py",
     "varRefreshCmd": "print(var_dic_list())"
    },
    "r": {
     "delete_cmd_postfix": ") ",
     "delete_cmd_prefix": "rm(",
     "library": "var_list.r",
     "varRefreshCmd": "cat(var_dic_list()) "
    }
   },
   "types_to_exclude": [
    "module",
    "function",
    "builtin_function_or_method",
    "instance",
    "_Feature"
   ],
   "window_display": false
  }
 },
 "nbformat": 4,
 "nbformat_minor": 2
}
